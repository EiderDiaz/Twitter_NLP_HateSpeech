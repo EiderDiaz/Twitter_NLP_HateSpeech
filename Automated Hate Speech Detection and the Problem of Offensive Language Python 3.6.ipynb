{
 "cells": [
  {
   "cell_type": "markdown",
   "metadata": {},
   "source": [
    "# Replication for results in Davidson et al. 2017. \"Automated Hate Speech Detection and the Problem of Offensive Language\""
   ]
  },
  {
   "cell_type": "code",
   "execution_count": 1,
   "metadata": {},
   "outputs": [],
   "source": [
    "import pandas as pd\n",
    "import numpy as np\n",
    "import pickle\n",
    "import sys\n",
    "from sklearn.feature_extraction.text import TfidfVectorizer\n",
    "import nltk\n",
    "from nltk.stem.porter import *\n",
    "import string\n",
    "import re\n",
    "from vaderSentiment.vaderSentiment import SentimentIntensityAnalyzer as VS\n",
    "from textstat.textstat import *\n",
    "from sklearn.linear_model import LogisticRegression\n",
    "from sklearn.feature_selection import SelectFromModel\n",
    "from sklearn.metrics import classification_report\n",
    "from sklearn.svm import LinearSVC\n",
    "import matplotlib.pyplot as plt\n",
    "import seaborn\n",
    "%matplotlib inline"
   ]
  },
  {
   "cell_type": "markdown",
   "metadata": {},
   "source": [
    "## Loading the data"
   ]
  },
  {
   "cell_type": "code",
   "execution_count": 2,
   "metadata": {},
   "outputs": [],
   "source": [
    "df = pd.read_csv(\"../data/labeled_data.csv\")"
   ]
  },
  {
   "cell_type": "code",
   "execution_count": 3,
   "metadata": {},
   "outputs": [
    {
     "data": {
      "text/html": [
       "<div>\n",
       "<style scoped>\n",
       "    .dataframe tbody tr th:only-of-type {\n",
       "        vertical-align: middle;\n",
       "    }\n",
       "\n",
       "    .dataframe tbody tr th {\n",
       "        vertical-align: top;\n",
       "    }\n",
       "\n",
       "    .dataframe thead th {\n",
       "        text-align: right;\n",
       "    }\n",
       "</style>\n",
       "<table border=\"1\" class=\"dataframe\">\n",
       "  <thead>\n",
       "    <tr style=\"text-align: right;\">\n",
       "      <th></th>\n",
       "      <th>Unnamed: 0</th>\n",
       "      <th>count</th>\n",
       "      <th>hate_speech</th>\n",
       "      <th>offensive_language</th>\n",
       "      <th>neither</th>\n",
       "      <th>class</th>\n",
       "      <th>tweet</th>\n",
       "    </tr>\n",
       "  </thead>\n",
       "  <tbody>\n",
       "    <tr>\n",
       "      <td>0</td>\n",
       "      <td>0</td>\n",
       "      <td>3</td>\n",
       "      <td>0</td>\n",
       "      <td>0</td>\n",
       "      <td>3</td>\n",
       "      <td>2</td>\n",
       "      <td>!!! RT @mayasolovely: As a woman you shouldn't...</td>\n",
       "    </tr>\n",
       "    <tr>\n",
       "      <td>1</td>\n",
       "      <td>1</td>\n",
       "      <td>3</td>\n",
       "      <td>0</td>\n",
       "      <td>3</td>\n",
       "      <td>0</td>\n",
       "      <td>1</td>\n",
       "      <td>!!!!! RT @mleew17: boy dats cold...tyga dwn ba...</td>\n",
       "    </tr>\n",
       "    <tr>\n",
       "      <td>2</td>\n",
       "      <td>2</td>\n",
       "      <td>3</td>\n",
       "      <td>0</td>\n",
       "      <td>3</td>\n",
       "      <td>0</td>\n",
       "      <td>1</td>\n",
       "      <td>!!!!!!! RT @UrKindOfBrand Dawg!!!! RT @80sbaby...</td>\n",
       "    </tr>\n",
       "    <tr>\n",
       "      <td>3</td>\n",
       "      <td>3</td>\n",
       "      <td>3</td>\n",
       "      <td>0</td>\n",
       "      <td>2</td>\n",
       "      <td>1</td>\n",
       "      <td>1</td>\n",
       "      <td>!!!!!!!!! RT @C_G_Anderson: @viva_based she lo...</td>\n",
       "    </tr>\n",
       "    <tr>\n",
       "      <td>4</td>\n",
       "      <td>4</td>\n",
       "      <td>6</td>\n",
       "      <td>0</td>\n",
       "      <td>6</td>\n",
       "      <td>0</td>\n",
       "      <td>1</td>\n",
       "      <td>!!!!!!!!!!!!! RT @ShenikaRoberts: The shit you...</td>\n",
       "    </tr>\n",
       "    <tr>\n",
       "      <td>...</td>\n",
       "      <td>...</td>\n",
       "      <td>...</td>\n",
       "      <td>...</td>\n",
       "      <td>...</td>\n",
       "      <td>...</td>\n",
       "      <td>...</td>\n",
       "      <td>...</td>\n",
       "    </tr>\n",
       "    <tr>\n",
       "      <td>24778</td>\n",
       "      <td>25291</td>\n",
       "      <td>3</td>\n",
       "      <td>0</td>\n",
       "      <td>2</td>\n",
       "      <td>1</td>\n",
       "      <td>1</td>\n",
       "      <td>you's a muthaf***in lie &amp;#8220;@LifeAsKing: @2...</td>\n",
       "    </tr>\n",
       "    <tr>\n",
       "      <td>24779</td>\n",
       "      <td>25292</td>\n",
       "      <td>3</td>\n",
       "      <td>0</td>\n",
       "      <td>1</td>\n",
       "      <td>2</td>\n",
       "      <td>2</td>\n",
       "      <td>you've gone and broke the wrong heart baby, an...</td>\n",
       "    </tr>\n",
       "    <tr>\n",
       "      <td>24780</td>\n",
       "      <td>25294</td>\n",
       "      <td>3</td>\n",
       "      <td>0</td>\n",
       "      <td>3</td>\n",
       "      <td>0</td>\n",
       "      <td>1</td>\n",
       "      <td>young buck wanna eat!!.. dat nigguh like I ain...</td>\n",
       "    </tr>\n",
       "    <tr>\n",
       "      <td>24781</td>\n",
       "      <td>25295</td>\n",
       "      <td>6</td>\n",
       "      <td>0</td>\n",
       "      <td>6</td>\n",
       "      <td>0</td>\n",
       "      <td>1</td>\n",
       "      <td>youu got wild bitches tellin you lies</td>\n",
       "    </tr>\n",
       "    <tr>\n",
       "      <td>24782</td>\n",
       "      <td>25296</td>\n",
       "      <td>3</td>\n",
       "      <td>0</td>\n",
       "      <td>0</td>\n",
       "      <td>3</td>\n",
       "      <td>2</td>\n",
       "      <td>~~Ruffled | Ntac Eileen Dahlia - Beautiful col...</td>\n",
       "    </tr>\n",
       "  </tbody>\n",
       "</table>\n",
       "<p>24783 rows × 7 columns</p>\n",
       "</div>"
      ],
      "text/plain": [
       "       Unnamed: 0  count  hate_speech  offensive_language  neither  class  \\\n",
       "0               0      3            0                   0        3      2   \n",
       "1               1      3            0                   3        0      1   \n",
       "2               2      3            0                   3        0      1   \n",
       "3               3      3            0                   2        1      1   \n",
       "4               4      6            0                   6        0      1   \n",
       "...           ...    ...          ...                 ...      ...    ...   \n",
       "24778       25291      3            0                   2        1      1   \n",
       "24779       25292      3            0                   1        2      2   \n",
       "24780       25294      3            0                   3        0      1   \n",
       "24781       25295      6            0                   6        0      1   \n",
       "24782       25296      3            0                   0        3      2   \n",
       "\n",
       "                                                   tweet  \n",
       "0      !!! RT @mayasolovely: As a woman you shouldn't...  \n",
       "1      !!!!! RT @mleew17: boy dats cold...tyga dwn ba...  \n",
       "2      !!!!!!! RT @UrKindOfBrand Dawg!!!! RT @80sbaby...  \n",
       "3      !!!!!!!!! RT @C_G_Anderson: @viva_based she lo...  \n",
       "4      !!!!!!!!!!!!! RT @ShenikaRoberts: The shit you...  \n",
       "...                                                  ...  \n",
       "24778  you's a muthaf***in lie &#8220;@LifeAsKing: @2...  \n",
       "24779  you've gone and broke the wrong heart baby, an...  \n",
       "24780  young buck wanna eat!!.. dat nigguh like I ain...  \n",
       "24781              youu got wild bitches tellin you lies  \n",
       "24782  ~~Ruffled | Ntac Eileen Dahlia - Beautiful col...  \n",
       "\n",
       "[24783 rows x 7 columns]"
      ]
     },
     "execution_count": 3,
     "metadata": {},
     "output_type": "execute_result"
    }
   ],
   "source": [
    "df"
   ]
  },
  {
   "cell_type": "code",
   "execution_count": 4,
   "metadata": {},
   "outputs": [
    {
     "data": {
      "text/html": [
       "<div>\n",
       "<style scoped>\n",
       "    .dataframe tbody tr th:only-of-type {\n",
       "        vertical-align: middle;\n",
       "    }\n",
       "\n",
       "    .dataframe tbody tr th {\n",
       "        vertical-align: top;\n",
       "    }\n",
       "\n",
       "    .dataframe thead th {\n",
       "        text-align: right;\n",
       "    }\n",
       "</style>\n",
       "<table border=\"1\" class=\"dataframe\">\n",
       "  <thead>\n",
       "    <tr style=\"text-align: right;\">\n",
       "      <th></th>\n",
       "      <th>Unnamed: 0</th>\n",
       "      <th>count</th>\n",
       "      <th>hate_speech</th>\n",
       "      <th>offensive_language</th>\n",
       "      <th>neither</th>\n",
       "      <th>class</th>\n",
       "    </tr>\n",
       "  </thead>\n",
       "  <tbody>\n",
       "    <tr>\n",
       "      <td>count</td>\n",
       "      <td>24783.000000</td>\n",
       "      <td>24783.000000</td>\n",
       "      <td>24783.000000</td>\n",
       "      <td>24783.000000</td>\n",
       "      <td>24783.000000</td>\n",
       "      <td>24783.000000</td>\n",
       "    </tr>\n",
       "    <tr>\n",
       "      <td>mean</td>\n",
       "      <td>12681.192027</td>\n",
       "      <td>3.243473</td>\n",
       "      <td>0.280515</td>\n",
       "      <td>2.413711</td>\n",
       "      <td>0.549247</td>\n",
       "      <td>1.110277</td>\n",
       "    </tr>\n",
       "    <tr>\n",
       "      <td>std</td>\n",
       "      <td>7299.553863</td>\n",
       "      <td>0.883060</td>\n",
       "      <td>0.631851</td>\n",
       "      <td>1.399459</td>\n",
       "      <td>1.113299</td>\n",
       "      <td>0.462089</td>\n",
       "    </tr>\n",
       "    <tr>\n",
       "      <td>min</td>\n",
       "      <td>0.000000</td>\n",
       "      <td>3.000000</td>\n",
       "      <td>0.000000</td>\n",
       "      <td>0.000000</td>\n",
       "      <td>0.000000</td>\n",
       "      <td>0.000000</td>\n",
       "    </tr>\n",
       "    <tr>\n",
       "      <td>25%</td>\n",
       "      <td>6372.500000</td>\n",
       "      <td>3.000000</td>\n",
       "      <td>0.000000</td>\n",
       "      <td>2.000000</td>\n",
       "      <td>0.000000</td>\n",
       "      <td>1.000000</td>\n",
       "    </tr>\n",
       "    <tr>\n",
       "      <td>50%</td>\n",
       "      <td>12703.000000</td>\n",
       "      <td>3.000000</td>\n",
       "      <td>0.000000</td>\n",
       "      <td>3.000000</td>\n",
       "      <td>0.000000</td>\n",
       "      <td>1.000000</td>\n",
       "    </tr>\n",
       "    <tr>\n",
       "      <td>75%</td>\n",
       "      <td>18995.500000</td>\n",
       "      <td>3.000000</td>\n",
       "      <td>0.000000</td>\n",
       "      <td>3.000000</td>\n",
       "      <td>0.000000</td>\n",
       "      <td>1.000000</td>\n",
       "    </tr>\n",
       "    <tr>\n",
       "      <td>max</td>\n",
       "      <td>25296.000000</td>\n",
       "      <td>9.000000</td>\n",
       "      <td>7.000000</td>\n",
       "      <td>9.000000</td>\n",
       "      <td>9.000000</td>\n",
       "      <td>2.000000</td>\n",
       "    </tr>\n",
       "  </tbody>\n",
       "</table>\n",
       "</div>"
      ],
      "text/plain": [
       "         Unnamed: 0         count   hate_speech  offensive_language  \\\n",
       "count  24783.000000  24783.000000  24783.000000        24783.000000   \n",
       "mean   12681.192027      3.243473      0.280515            2.413711   \n",
       "std     7299.553863      0.883060      0.631851            1.399459   \n",
       "min        0.000000      3.000000      0.000000            0.000000   \n",
       "25%     6372.500000      3.000000      0.000000            2.000000   \n",
       "50%    12703.000000      3.000000      0.000000            3.000000   \n",
       "75%    18995.500000      3.000000      0.000000            3.000000   \n",
       "max    25296.000000      9.000000      7.000000            9.000000   \n",
       "\n",
       "            neither         class  \n",
       "count  24783.000000  24783.000000  \n",
       "mean       0.549247      1.110277  \n",
       "std        1.113299      0.462089  \n",
       "min        0.000000      0.000000  \n",
       "25%        0.000000      1.000000  \n",
       "50%        0.000000      1.000000  \n",
       "75%        0.000000      1.000000  \n",
       "max        9.000000      2.000000  "
      ]
     },
     "execution_count": 4,
     "metadata": {},
     "output_type": "execute_result"
    }
   ],
   "source": [
    "df.describe()"
   ]
  },
  {
   "cell_type": "code",
   "execution_count": 5,
   "metadata": {},
   "outputs": [
    {
     "data": {
      "text/plain": [
       "Index(['Unnamed: 0', 'count', 'hate_speech', 'offensive_language', 'neither',\n",
       "       'class', 'tweet'],\n",
       "      dtype='object')"
      ]
     },
     "execution_count": 5,
     "metadata": {},
     "output_type": "execute_result"
    }
   ],
   "source": [
    "df.columns"
   ]
  },
  {
   "cell_type": "markdown",
   "metadata": {},
   "source": [
    "### Columns key:\n",
    "count = number of CrowdFlower users who coded each tweet (min is 3, sometimes more users coded a tweet when judgments were determined to be unreliable by CF).\n",
    "\n",
    "\n",
    "hate_speech = number of CF users who judged the tweet to be hate speech.\n",
    "\n",
    "\n",
    "offensive_language = number of CF users who judged the tweet to be offensive.\n",
    "\n",
    "\n",
    "neither = number of CF users who judged the tweet to be neither offensive nor non-offensive.\n",
    "\n",
    "\n",
    "class = class label for majority of CF users.\n",
    "\n",
    "    0 - hate speech\n",
    "    1 - offensive  language\n",
    "    2 - neither\n",
    "\n",
    "tweet = raw tweet text\n"
   ]
  },
  {
   "cell_type": "code",
   "execution_count": 6,
   "metadata": {},
   "outputs": [
    {
     "data": {
      "text/plain": [
       "<matplotlib.axes._subplots.AxesSubplot at 0xdc8ce2fb48>"
      ]
     },
     "execution_count": 6,
     "metadata": {},
     "output_type": "execute_result"
    },
    {
     "data": {
      "image/png": "[encoded data removed]",
      "text/plain": [
       "<Figure size 432x288 with 1 Axes>"
      ]
     },
     "metadata": {
      "needs_background": "light"
     },
     "output_type": "display_data"
    }
   ],
   "source": [
    "df['class'].hist()"
   ]
  },
  {
   "cell_type": "markdown",
   "metadata": {},
   "source": [
    "This histogram shows the imbalanced nature of the task - most tweets containing \"hate\" words as defined by Hatebase were \n",
    "only considered to be offensive by the CF coders. More tweets were considered to be neither hate speech nor offensive language than were considered hate speech."
   ]
  },
  {
   "cell_type": "code",
   "execution_count": 7,
   "metadata": {},
   "outputs": [],
   "source": [
    "tweets=df.tweet"
   ]
  },
  {
   "cell_type": "markdown",
   "metadata": {},
   "source": [
    "## Feature generation"
   ]
  },
  {
   "cell_type": "code",
   "execution_count": 8,
   "metadata": {},
   "outputs": [],
   "source": [
    "#nltk.download('stopwords')\n",
    "stopwords=stopwords = nltk.corpus.stopwords.words(\"english\")\n",
    "\n",
    "other_exclusions = [\"#ff\", \"ff\", \"rt\"]\n",
    "stopwords.extend(other_exclusions)\n",
    "\n",
    "stemmer = PorterStemmer()\n",
    "\n",
    "\n",
    "def preprocess(text_string):\n",
    "    \"\"\"\n",
    "    Accepts a text string and replaces:\n",
    "    1) urls with URLHERE\n",
    "    2) lots of whitespace with one instance\n",
    "    3) mentions with MENTIONHERE\n",
    "\n",
    "    This allows us to get standardized counts of urls and mentions\n",
    "    Without caring about specific people mentioned\n",
    "    \"\"\"\n",
    "    space_pattern = '\\s+'\n",
    "    giant_url_regex = ('http[s]?://(?:[a-zA-Z]|[0-9]|[$-_@.&+]|'\n",
    "        '[!*\\(\\),]|(?:%[0-9a-fA-F][0-9a-fA-F]))+')\n",
    "    mention_regex = '@[\\w\\-]+'\n",
    "    parsed_text = re.sub(space_pattern, ' ', text_string)\n",
    "    parsed_text = re.sub(giant_url_regex, '', parsed_text)\n",
    "    parsed_text = re.sub(mention_regex, '', parsed_text)\n",
    "    return parsed_text\n",
    "\n",
    "def tokenize(tweet):\n",
    "    \"\"\"Removes punctuation & excess whitespace, sets to lowercase,\n",
    "    and stems tweets. Returns a list of stemmed tokens.\"\"\"\n",
    "    tweet = \" \".join(re.split(\"[^a-zA-Z]*\", tweet.lower())).strip()\n",
    "    tokens = [stemmer.stem(t) for t in tweet.split()]\n",
    "    return tokens\n",
    "\n",
    "def basic_tokenize(tweet):\n",
    "    \"\"\"Same as tokenize but without the stemming\"\"\"\n",
    "    tweet = \" \".join(re.split(\"[^a-zA-Z.,!?]*\", tweet.lower())).strip()\n",
    "    return tweet.split()\n",
    "\n",
    "vectorizer = TfidfVectorizer(\n",
    "    tokenizer=tokenize,\n",
    "    preprocessor=preprocess,\n",
    "    ngram_range=(1, 3),\n",
    "    stop_words=stopwords,\n",
    "    use_idf=True,\n",
    "    smooth_idf=False,\n",
    "    norm=None,\n",
    "    decode_error='replace',\n",
    "    max_features=10000,\n",
    "    min_df=5,\n",
    "    max_df=0.75\n",
    "    )"
   ]
  },
  {
   "cell_type": "code",
   "execution_count": 9,
   "metadata": {},
   "outputs": [
    {
     "name": "stdout",
     "output_type": "stream",
     "text": [
      "['i', 'me', 'my', 'myself', 'we', 'our', 'ours', 'ourselves', 'you', \"you're\", \"you've\", \"you'll\", \"you'd\", 'your', 'yours', 'yourself', 'yourselves', 'he', 'him', 'his', 'himself', 'she', \"she's\", 'her', 'hers', 'herself', 'it', \"it's\", 'its', 'itself', 'they', 'them', 'their', 'theirs', 'themselves', 'what', 'which', 'who', 'whom', 'this', 'that', \"that'll\", 'these', 'those', 'am', 'is', 'are', 'was', 'were', 'be', 'been', 'being', 'have', 'has', 'had', 'having', 'do', 'does', 'did', 'doing', 'a', 'an', 'the', 'and', 'but', 'if', 'or', 'because', 'as', 'until', 'while', 'of', 'at', 'by', 'for', 'with', 'about', 'against', 'between', 'into', 'through', 'during', 'before', 'after', 'above', 'below', 'to', 'from', 'up', 'down', 'in', 'out', 'on', 'off', 'over', 'under', 'again', 'further', 'then', 'once', 'here', 'there', 'when', 'where', 'why', 'how', 'all', 'any', 'both', 'each', 'few', 'more', 'most', 'other', 'some', 'such', 'no', 'nor', 'not', 'only', 'own', 'same', 'so', 'than', 'too', 'very', 's', 't', 'can', 'will', 'just', 'don', \"don't\", 'should', \"should've\", 'now', 'd', 'll', 'm', 'o', 're', 've', 'y', 'ain', 'aren', \"aren't\", 'couldn', \"couldn't\", 'didn', \"didn't\", 'doesn', \"doesn't\", 'hadn', \"hadn't\", 'hasn', \"hasn't\", 'haven', \"haven't\", 'isn', \"isn't\", 'ma', 'mightn', \"mightn't\", 'mustn', \"mustn't\", 'needn', \"needn't\", 'shan', \"shan't\", 'shouldn', \"shouldn't\", 'wasn', \"wasn't\", 'weren', \"weren't\", 'won', \"won't\", 'wouldn', \"wouldn't\", '#ff', 'ff', 'rt']\n"
     ]
    }
   ],
   "source": [
    "print(stopwords)"
   ]
  },
  {
   "cell_type": "code",
   "execution_count": 10,
   "metadata": {},
   "outputs": [],
   "source": [
    "import warnings\n",
    "warnings.simplefilter(action='ignore', category=FutureWarning)"
   ]
  },
  {
   "cell_type": "code",
   "execution_count": 11,
   "metadata": {},
   "outputs": [
    {
     "name": "stderr",
     "output_type": "stream",
     "text": [
      "C:\\Users\\INTEL\\Anaconda3\\lib\\site-packages\\sklearn\\feature_extraction\\text.py:300: UserWarning: Your stop_words may be inconsistent with your preprocessing. Tokenizing the stop words generated tokens ['b', 'c', 'e', 'f', 'g', 'h', 'j', 'l', 'n', 'p', 'r', 'u', 'v', 'w'] not in stop_words.\n",
      "  'stop_words.' % sorted(inconsistent))\n"
     ]
    }
   ],
   "source": [
    "#Construct tfidf matrix and get relevant scores\n",
    "tfidf = vectorizer.fit_transform(tweets).toarray()\n",
    "vocab = {v:i for i, v in enumerate(vectorizer.get_feature_names())}\n",
    "idf_vals = vectorizer.idf_\n",
    "idf_dict = {i:idf_vals[i] for i in vocab.values()} #keys are indices; values are IDF scores"
   ]
  },
  {
   "cell_type": "code",
   "execution_count": 12,
   "metadata": {},
   "outputs": [
    {
     "name": "stdout",
     "output_type": "stream",
     "text": [
      "{0: 1.2916307316034585, 1: 3.907833585059827, 2: 6.723464058558176, 3: 4.6962909454240975, 4: 6.127480626451879, 5: 8.552963855769079, 6: 7.899037388362414, 7: 7.333723579312354, 8: 8.920688635894397, 9: 5.958857914016086, 10: 6.473522314089243, 11: 8.073390775507193, 12: 9.172003064175302, 13: 7.186087580506289, 14: 6.61810354290035, 15: 8.173474234064175, 16: 1.782880397297114, 17: 6.9747784868390825, 18: 7.750617383244141, 19: 8.2846998691744, 20: 8.552963855769079, 21: 8.920688635894397, 22: 1.829223874843456, 23: 4.748012230402388, 24: 6.898405508054508, 25: 6.990778828185523, 26: 8.720017940432244, 27: 7.454351567100969, 28: 7.110580027998144, 29: 9.172003064175302, 30: 9.038471671550779, 31: 2.4909691578552584, 32: 5.242982482378585, 33: 4.6995482772944035, 34: 4.266728285736872, 35: 5.04486867913021, 36: 5.964621618732836, 37: 4.6580087588530805, 38: 7.429033759116678, 39: 7.057470202684196, 40: 4.742888393402518, 41: 4.202189764599301, 42: 6.094032692384339, 43: 9.038471671550779, 44: 4.530363198405819, 45: 5.526926232719759, 46: 6.959030129870943, 47: 5.628975487073928, 48: 8.633006563442613, 49: 9.508475300796515, 50: 5.451486525118183, 51: 9.508475300796515, 52: 8.920688635894397, 53: 8.920688635894397, 54: 8.552963855769079, 55: 9.508475300796515, 56: 8.073390775507193, 57: 8.409863012128405, 58: 7.93985938288267, 59: 6.258100808868943, 60: 7.380243594947246, 61: 9.172003064175302, 62: 4.664288214337923, 63: 6.483184225000979, 64: 8.122180939676625, 65: 6.574618430960611, 66: 7.429033759116678, 67: 5.902977455621629, 68: 7.562565151741201, 69: 7.785708703055411, 70: 7.246712202322724, 71: 8.2846998691744, 72: 7.683926008745469, 73: 8.633006563442613, 74: 8.920688635894397, 75: 8.920688635894397, 76: 4.680161563494213, 77: 7.859816675209133, 78: 8.552963855769079, 79: 5.534416904448916, 80: 7.93985938288267, 81: 8.815328120236568, 82: 7.454351567100969, 83: 9.508475300796515, 84: 7.982418997301465, 85: 7.057470202684196, 86: 8.22754145533445, 87: 7.3112507234602955, 88: 7.356713097537052, 89: 8.633006563442613, 90: 8.122180939676625, 91: 7.007039349057304, 92: 8.073390775507193, 93: 8.920688635894397, 94: 9.32615374400256, 95: 8.22754145533445, 96: 5.733418150441526, 97: 9.172003064175302, 98: 8.720017940432244, 99: 6.512743027242523, 100: 9.508475300796515, 101: 9.32615374400256, 102: 9.038471671550779, 103: 9.172003064175302, 104: 7.454351567100969, 105: 9.32615374400256, 106: 9.038471671550779, 107: 9.508475300796515, 108: 3.5190127563592055, 109: 7.480327053504229, 110: 5.092047239405301, 111: 4.715996016503429, 112: 7.899037388362414, 113: 7.621405651764134, 114: 6.943525943334978, 115: 9.172003064175302, 116: 7.007039349057304, 117: 5.223510378965764, 118: 6.242715890029463, 119: 7.899037388362414, 120: 7.333723579312354, 121: 6.08747529183818, 122: 8.552963855769079, 123: 6.699072605434017, 124: 9.172003064175302, 125: 4.406172818174435, 126: 7.534394274774505, 127: 7.652177310430888, 128: 6.258100808868943, 129: 7.50699530058639, 130: 6.005925424874071, 131: 6.663565916977107, 132: 8.633006563442613, 133: 7.226092915119988, 134: 7.683926008745469, 135: 6.596124636181575, 136: 7.822076347226286, 137: 7.683926008745469, 138: 7.93985938288267, 139: 7.007039349057304, 140: 9.508475300796515, 141: 6.134306591522279, 142: 8.720017940432244, 143: 8.552963855769079, 144: 8.720017940432244, 145: 7.716715831568459, 146: 9.172003064175302, 147: 9.038471671550779, 148: 7.822076347226286, 149: 7.859816675209133, 150: 8.409863012128405, 151: 8.920688635894397, 152: 3.2014703531083555, 153: 6.687096414387302, 154: 6.408383011918281, 155: 5.019838931064375, 156: 6.711193965966362, 157: 6.381714764836119, 158: 5.340260890007959, 159: 8.409863012128405, 160: 5.74263480554645, 161: 6.9747784868390825, 162: 4.866009330064726, 163: 7.246712202322724, 164: 6.435781986106395, 165: 5.504785106842545, 166: 7.93985938288267, 167: 5.410802948481739, 168: 8.2846998691744, 169: 2.922579546067745, 170: 5.501142115564043, 171: 5.701812811026195, 172: 5.4480322902500955, 173: 6.068057205981078, 174: 6.024163012423853, 175: 4.439571098576283, 176: 7.534394274774505, 177: 7.074861945396065, 178: 5.259980058747155, 179: 4.748012230402388, 180: 6.011967739330034, 181: 9.038471671550779, 182: 5.504785106842545, 183: 5.493895707043277, 184: 8.073390775507193, 185: 5.684191209676375, 186: 9.172003064175302, 187: 7.057470202684196, 188: 9.508475300796515, 189: 7.982418997301465, 190: 8.409863012128405, 191: 5.359011439353334, 192: 9.038471671550779, 193: 8.920688635894397, 194: 6.8552333361893, 195: 9.172003064175302, 196: 9.172003064175302, 197: 6.6292768434984755, 198: 7.652177310430888, 199: 7.429033759116678, 200: 9.32615374400256, 201: 8.2846998691744, 202: 9.32615374400256, 203: 8.22754145533445, 204: 6.959030129870943, 205: 8.815328120236568, 206: 9.038471671550779, 207: 9.508475300796515, 208: 8.633006563442613, 209: 7.859816675209133, 210: 9.32615374400256, 211: 9.508475300796515, 212: 5.226269001404844, 213: 9.038471671550779, 214: 6.289599475928314, 215: 6.761204386541023, 216: 8.633006563442613, 217: 7.785708703055411, 218: 8.22754145533445, 219: 7.785708703055411, 220: 7.28927181674152, 221: 9.508475300796515, 222: 4.294627090874927, 223: 7.534394274774505, 224: 7.621405651764134, 225: 6.250378762775033, 226: 8.073390775507193, 227: 8.345324490990834, 228: 5.8761661981709725, 229: 6.735886578556733, 230: 6.687096414387302, 231: 6.183439280099924, 232: 7.750617383244141, 233: 7.166669494649188, 234: 6.512743027242523, 235: 7.380243594947246, 236: 3.130388733381848, 237: 5.458430997470994, 238: 6.220073413279704, 239: 5.953127239307101, 240: 5.697378213958329, 241: 6.6292768434984755, 242: 5.430937856890795, 243: 8.073390775507193, 244: 7.785708703055411, 245: 5.692963195749212, 246: 4.843151191988676, 247: 5.908427060389194, 248: 5.303782681405549, 249: 5.924956362340405, 250: 6.943525943334978, 251: 6.08747529183818, 252: 8.920688635894397, 253: 5.472466315587377, 254: 8.552963855769079, 255: 8.22754145533445, 256: 7.652177310430888, 257: 9.32615374400256, 258: 7.5915526886144535, 259: 8.345324490990834, 260: 9.172003064175302, 261: 6.813848120026445, 262: 6.774107791376931, 263: 6.134306591522279, 264: 9.038471671550779, 265: 7.750617383244141, 266: 8.478855883615356, 267: 7.822076347226286, 268: 9.508475300796515, 269: 7.562565151741201, 270: 9.038471671550779, 271: 1.6256322194317652, 272: 4.587035585504729, 273: 4.729351807684985, 274: 2.7684288662404866, 275: 4.841269723888971, 276: 5.207116569190088, 277: 4.252022138347177, 278: 6.512743027242523, 279: 5.886804596376028, 280: 4.186441407631162, 281: 3.6754204904361742, 282: 5.159488520200833, 283: 8.552963855769079, 284: 4.378576585873441, 285: 4.370326686401299, 286: 6.8552333361893, 287: 4.489871837051082, 288: 9.32615374400256, 289: 9.32615374400256, 290: 7.404341146526307, 291: 9.32615374400256, 292: 9.32615374400256, 293: 8.22754145533445, 294: 2.483292604938413, 295: 4.986686723747474, 296: 5.7660550797545485, 297: 4.141565142782866, 298: 5.441159410962333, 299: 6.113966907285156, 300: 4.672193393845037, 301: 7.480327053504229, 302: 7.007039349057304, 303: 5.458430997470994, 304: 3.7502046408562437, 305: 6.0427393979967885, 306: 8.815328120236568, 307: 5.738015859690155, 308: 4.781087482084174, 309: 7.750617383244141, 310: 5.175113838103914, 311: 9.172003064175302, 312: 3.2466020099072086, 313: 6.735886578556733, 314: 6.652005094576031, 315: 4.905307117479096, 316: 7.28927181674152, 317: 7.652177310430888, 318: 6.19793228740249, 319: 9.172003064175302, 320: 6.355739278432859, 321: 4.340266619595498, 322: 6.100633376415691, 323: 6.883806708633355, 324: 9.32615374400256, 325: 5.5306645548303655, 326: 5.7660550797545485, 327: 8.633006563442613, 328: 6.564036321630074, 329: 9.508475300796515, 330: 3.0852283372629947, 331: 5.534416904448916, 332: 5.592460274098831, 333: 5.199019358957469, 334: 5.64564253955914, 335: 5.068179757998657, 336: 5.624851769890067, 337: 7.822076347226286, 338: 6.445084378768708, 339: 5.908427060389194, 340: 5.240177431450976, 341: 6.364323022124251, 342: 8.815328120236568, 343: 5.7660550797545485, 344: 5.988014498307542, 345: 6.898405508054508, 346: 6.074488096311368, 347: 4.917404039187925, 348: 8.633006563442613, 349: 8.22754145533445, 350: 6.928258471204189, 351: 8.920688635894397, 352: 8.633006563442613, 353: 7.93985938288267, 354: 8.815328120236568, 355: 6.250378762775033, 356: 6.711193965966362, 357: 8.122180939676625, 358: 7.147621299678493, 359: 7.186087580506289, 360: 8.920688635894397, 361: 8.815328120236568, 362: 8.920688635894397, 363: 3.418523806973879, 364: 6.435781986106395, 365: 5.5572315822150875, 366: 4.57544125272381, 367: 7.267765611520557, 368: 7.404341146526307, 369: 6.445084378768708, 370: 9.508475300796515, 371: 8.073390775507193, 372: 6.596124636181575, 373: 5.451486525118183, 374: 6.273726126772024, 375: 6.502792696389355, 376: 6.3387897201190855, 377: 8.22754145533445, 378: 6.435781986106395, 379: 5.958857914016086, 380: 3.1992845598883752, 381: 7.333723579312354, 382: 7.3112507234602955, 383: 4.37621251857856, 384: 6.774107791376931, 385: 7.128929166666341, 386: 6.4174328474381985, 387: 9.172003064175302, 388: 5.002021087747581, 389: 4.826344073672296, 390: 6.364323022124251, 391: 5.321855462465243, 392: 7.562565151741201, 393: 8.633006563442613, 394: 5.814608305171539, 395: 6.0427393979967885, 396: 8.815328120236568, 397: 9.32615374400256, 398: 6.39941434193552, 399: 8.720017940432244, 400: 5.604484467065633, 401: 7.93985938288267, 402: 9.508475300796515, 403: 7.404341146526307, 404: 9.32615374400256, 405: 6.898405508054508, 406: 8.815328120236568, 407: 7.899037388362414, 408: 9.508475300796515, 409: 7.333723579312354, 410: 9.172003064175302, 411: 9.172003064175302, 412: 8.409863012128405, 413: 8.633006563442613, 414: 2.22530183505851, 415: 5.378120301051381, 416: 3.0855530653061147, 417: 3.6574229074052775, 418: 7.128929166666341, 419: 5.54575918105285, 420: 6.094032692384339, 421: 8.173474234064175, 422: 6.652005094576031, 423: 4.969444917312968, 424: 6.030316877998231, 425: 7.50699530058639, 426: 4.311083852838438, 427: 4.256201872749885, 428: 8.633006563442613, 429: 6.9747784868390825, 430: 8.345324490990834, 431: 9.038471671550779, 432: 2.577980534844888, 433: 6.813848120026445, 434: 6.273726126772024, 435: 4.751442765499178, 436: 6.663565916977107, 437: 7.480327053504229, 438: 4.373854026919268, 439: 4.856421528909573, 440: 4.507217168512856, 441: 4.350570087965223, 442: 6.281631306279137, 443: 4.472822243724972, 444: 4.2499388042603226, 445: 7.28927181674152, 446: 7.226092915119988, 447: 1.9805737341389227, 448: 4.0897117811726105, 449: 4.97802866100436, 450: 4.345977657391012, 451: 4.8281976423216175, 452: 5.400885511824393, 453: 3.8616159735399345, 454: 6.711193965966362, 455: 5.259980058747155, 456: 4.008851077543443, 457: 3.442831355514281, 458: 4.328941470238445, 459: 8.122180939676625, 460: 3.932526197650198, 461: 5.154333869612168, 462: 5.324899604846471, 463: 5.121461124611594, 464: 5.641449661299104, 465: 6.711193965966362, 466: 2.574662487495088, 467: 6.10727791913436, 468: 5.93052740738986, 469: 5.072907899194603, 470: 5.291913105850164, 471: 5.286030735947098, 472: 4.919434496738306, 473: 8.720017940432244, 474: 6.928258471204189, 475: 5.031138486318309, 476: 5.251445156297319, 477: 7.147621299678493, 478: 3.8242154926291776, 479: 3.992630121719904, 480: 7.110580027998144, 481: 6.564036321630074, 482: 8.478855883615356, 483: 2.9528339544255475, 484: 6.435781986106395, 485: 6.9132205938396485, 486: 4.311083852838438, 487: 6.6292768434984755, 488: 6.08747529183818, 489: 5.237380226829915, 490: 8.720017940432244, 491: 7.785708703055411, 492: 5.850055054167287, 493: 4.624159373378928, 494: 6.800425099694305, 495: 9.508475300796515, 496: 4.704454256063258, 497: 5.490292099539978, 498: 6.227564085008861, 499: 6.9747784868390825, 500: 9.32615374400256, 501: 2.043507118495265, 502: 5.04486867913021, 503: 5.982114776180353, 504: 2.5653528779770864, 505: 6.148099913654614, 506: 5.941763480656785, 507: 4.895336945159246, 508: 7.822076347226286, 509: 6.898405508054508, 510: 5.324899604846471, 511: 4.087055737114495, 512: 5.404180407721245, 513: 8.920688635894397, 514: 5.0042310333983835, 515: 4.809814771721085, 516: 5.417469639839928, 517: 5.002021087747581, 518: 4.415952847228075, 519: 7.356713097537052, 520: 7.899037388362414, 521: 6.445084378768708, 522: 9.508475300796515, 523: 7.750617383244141, 524: 7.380243594947246, 525: 9.508475300796515, 526: 8.173474234064175, 527: 8.409863012128405, 528: 7.356713097537052, 529: 8.920688635894397, 530: 7.859816675209133, 531: 5.037980018135025, 532: 9.038471671550779, 533: 3.621815868054659, 534: 6.928258471204189, 535: 7.50699530058639, 536: 4.952495358999196, 537: 6.723464058558176, 538: 7.716715831568459, 539: 6.585313720077359, 540: 7.562565151741201, 541: 7.5915526886144535, 542: 6.330421470448569, 543: 4.669023819083757, 544: 7.859816675209133, 545: 6.959030129870943, 546: 6.959030129870943, 547: 9.508475300796515, 548: 7.128929166666341, 549: 2.136357272458728, 550: 5.497512347513465, 551: 5.886804596376028, 552: 3.863735366774097, 553: 4.781087482084174, 554: 6.155068582970708, 555: 5.454952733094669, 556: 7.93985938288267, 557: 4.127656712736734, 558: 3.0275109166372944, 559: 4.411050876627868, 560: 5.697378213958329, 561: 7.93985938288267, 562: 5.780375133529297, 563: 5.620744987937413, 564: 5.1569078736073415, 565: 5.451486525118183, 566: 8.2846998691744, 567: 6.827453772082224, 568: 1.713652148617126, 569: 4.232403543195797, 570: 4.150946074616632, 571: 3.2779938532180326, 572: 4.481966657543969, 573: 3.2779938532180326, 574: 3.3608620711986013, 575: 6.0427393979967885, 576: 4.879588588191107, 577: 3.9687816146732082, 578: 3.7357888474931022, 579: 4.767027496515876, 580: 8.478855883615356, 581: 4.4370585344404, 582: 4.035364643875315, 583: 5.89755738815229, 584: 4.241648601339849, 585: 8.552963855769079, 586: 7.007039349057304, 587: 2.703639075822219, 588: 6.445084378768708, 589: 5.561085151531077, 590: 4.2968057409741505, 591: 6.774107791376931, 592: 6.869417971181256, 593: 5.352722110445771, 594: 8.633006563442613, 595: 7.333723579312354, 596: 4.370326686401299, 597: 5.193657415816083, 598: 5.637274289888624, 599: 4.5512407834273745, 600: 4.222230515482748, 601: 8.22754145533445, 602: 6.640576398752408, 603: 8.552963855769079, 604: 5.993949233827356, 605: 6.018046785406416, 606: 1.706347754041245, 607: 4.047189105970338, 608: 4.28811947571819, 609: 2.806269264727636, 610: 4.4320522661622554, 611: 4.474123480082943, 612: 3.469650182328695, 613: 6.258100808868943, 614: 5.4208197267252105, 615: 4.155669748964408, 616: 3.3476900090718296, 617: 4.535888074337789, 618: 7.982418997301465, 619: 4.364475294632835, 620: 4.295715822610124, 621: 5.441159410962333, 622: 4.389284600145913, 623: 9.172003064175302, 624: 7.785708703055411, 625: 2.7402120006329764, 626: 5.368520227322362, 627: 5.072907899194603, 628: 5.515794392350914, 629: 5.624851769890067, 630: 5.600460316765908, 631: 5.162075843765784, 632: 7.859816675209133, 633: 6.735886578556733, 634: 5.804707234188828, 635: 4.763543172433264, 636: 4.559715410418346, 637: 9.508475300796515, 638: 4.241648601339849, 639: 6.473522314089243, 640: 7.859816675209133, 641: 6.0427393979967885, 642: 8.633006563442613, 643: 8.409863012128405, 644: 3.1368634535646582, 645: 8.026870759872299, 646: 6.959030129870943, 647: 3.2847092645895573, 648: 8.173474234064175, 649: 8.345324490990834, 650: 8.815328120236568, 651: 6.463952863073092, 652: 6.289599475928314, 653: 9.038471671550779, 654: 7.380243594947246, 655: 8.815328120236568, 656: 9.172003064175302, 657: 8.920688635894397, 658: 2.6063357606000133, 659: 6.183439280099924, 660: 6.0427393979967885, 661: 4.235475742232768, 662: 5.919416181964789, 663: 6.61810354290035, 664: 3.5960539610289857, 665: 8.345324490990834, 666: 7.621405651764134, 667: 5.384571936332869, 668: 4.485911435834986, 669: 6.574618430960611, 670: 4.797144918980033, 671: 5.814608305171539, 672: 7.562565151741201, 673: 6.408383011918281, 674: 3.9656443571980757, 675: 6.463952863073092, 676: 5.814608305171539, 677: 6.036508848246152, 678: 7.380243594947246, 679: 7.785708703055411, 680: 6.699072605434017, 681: 9.038471671550779, 682: 9.038471671550779, 683: 7.621405651764134, 684: 6.011967739330034, 685: 5.93612966293853, 686: 6.640576398752408, 687: 6.883806708633355, 688: 9.038471671550779, 689: 7.110580027998144, 690: 7.147621299678493, 691: 5.824608388506123, 692: 8.345324490990834, 693: 9.508475300796515, 694: 6.990778828185523, 695: 9.508475300796515, 696: 9.038471671550779, 697: 8.22754145533445, 698: 7.534394274774505, 699: 9.508475300796515, 700: 9.172003064175302, 701: 8.720017940432244, 702: 8.720017940432244, 703: 1.5932731808983813, 704: 4.54144364418239, 705: 7.93985938288267, 706: 5.286030735947098, 707: 6.596124636181575, 708: 9.038471671550779, 709: 8.920688635894397, 710: 9.172003064175302, 711: 7.166669494649188, 712: 8.2846998691744, 713: 6.800425099694305, 714: 6.761204386541023, 715: 9.32615374400256, 716: 4.428313944051649, 717: 8.22754145533445, 718: 8.173474234064175, 719: 5.451486525118183, 720: 9.172003064175302, 721: 6.6292768434984755, 722: 7.147621299678493, 723: 6.585313720077359, 724: 6.990778828185523, 725: 8.552963855769079, 726: 7.28927181674152, 727: 6.596124636181575, 728: 9.172003064175302, 729: 3.3506492164733075, 730: 6.483184225000979, 731: 6.183439280099924, 732: 4.911337286505688, 733: 7.128929166666341, 734: 7.859816675209133, 735: 6.227564085008861, 736: 8.920688635894397, 737: 9.038471671550779, 738: 5.306772220253914, 739: 5.526926232719759, 740: 7.205890207802469, 741: 4.879588588191107, 742: 7.110580027998144, 743: 7.480327053504229, 744: 6.454474119118548, 745: 7.859816675209133, 746: 4.001519069137149, 747: 6.84124709421456, 748: 6.574618430960611, 749: 5.451486525118183, 750: 6.883806708633355, 751: 7.652177310430888, 752: 6.250378762775033, 753: 9.32615374400256, 754: 8.815328120236568, 755: 6.543202234727232, 756: 6.330421470448569, 757: 7.621405651764134, 758: 6.19065952807341, 759: 6.640576398752408, 760: 8.478855883615356, 761: 6.84124709421456, 762: 4.0378867133080245, 763: 7.859816675209133, 764: 8.815328120236568, 765: 7.356713097537052, 766: 8.552963855769079, 767: 4.797144918980033, 768: 5.7660550797545485, 769: 7.982418997301465, 770: 7.226092915119988, 771: 9.038471671550779, 772: 7.040375769324895, 773: 7.205890207802469, 774: 8.478855883615356, 775: 3.773194159080943, 776: 6.990778828185523, 777: 8.026870759872299, 778: 4.215170476072022, 779: 7.226092915119988, 780: 8.345324490990834, 781: 7.267765611520557, 782: 9.172003064175302, 783: 7.562565151741201, 784: 6.463952863073092, 785: 7.562565151741201, 786: 7.429033759116678, 787: 7.186087580506289, 788: 8.22754145533445, 789: 7.3112507234602955, 790: 7.186087580506289, 791: 8.815328120236568, 792: 9.32615374400256, 793: 8.026870759872299, 794: 5.865639785183985, 795: 6.17627079062131, 796: 7.750617383244141, 797: 3.7706135124874507, 798: 7.621405651764134, 799: 7.356713097537052, 800: 5.799793219386399, 801: 7.454351567100969, 802: 7.28927181674152, 803: 6.8552333361893, 804: 6.372981084867365, 805: 4.917404039187925, 806: 6.454474119118548, 807: 6.220073413279704, 808: 6.585313720077359, 809: 6.787179872944284, 810: 7.716715831568459, 811: 7.023568651008515, 812: 8.815328120236568, 813: 3.992630121719904, 814: 7.267765611520557, 815: 6.883806708633355, 816: 5.701812811026195, 817: 7.226092915119988, 818: 5.710741441770496, 819: 6.036508848246152, 820: 9.038471671550779, 821: 7.5915526886144535, 822: 6.4929403999463435, 823: 6.061667407882307, 824: 8.2846998691744, 825: 7.205890207802469, 826: 6.869417971181256, 827: 9.32615374400256, 828: 7.333723579312354, 829: 5.576649668072188, 830: 8.815328120236568, 831: 8.815328120236568, 832: 7.128929166666341, 833: 9.038471671550779, 834: 8.2846998691744, 835: 8.409863012128405, 836: 8.122180939676625, 837: 7.28927181674152, 838: 6.959030129870943, 839: 9.508475300796515, 840: 9.172003064175302, 841: 9.32615374400256, 842: 2.722435780498474, 843: 5.5306645548303655, 844: 5.74263480554645, 845: 3.784890198844134, 846: 5.99991940081386, 847: 5.701812811026195, 848: 4.391679810871868, 849: 7.899037388362414, 850: 7.5915526886144535, 851: 5.834709484492627, 852: 4.913355450661925, 853: 6.100633376415691, 854: 8.720017940432244, 855: 5.870889141070129, 856: 5.410802948481739, 857: 7.982418997301465, 858: 6.162086155629354, 859: 8.345324490990834, 860: 2.749220030132822, 861: 6.596124636181575, 862: 3.270150675757007, 863: 6.463952863073092, 864: 7.246712202322724, 865: 6.512743027242523, 866: 6.297631647625578, 867: 9.32615374400256, 868: 6.761204386541023, 869: 5.175113838103914, 870: 4.903305114808424, 871: 7.128929166666341, 872: 9.172003064175302, 873: 5.493895707043277, 874: 6.61810354290035, 875: 9.508475300796515, 876: 6.813848120026445, 877: 9.038471671550779, 878: 7.480327053504229, 879: 5.881471250400666, 880: 9.038471671550779, 881: 7.28927181674152, 882: 9.172003064175302, 883: 8.815328120236568, 884: 6.522793363096025, 885: 4.986686723747474, 886: 8.920688635894397, 887: 8.552963855769079, 888: 6.445084378768708, 889: 8.173474234064175, 890: 8.22754145533445, 891: 6.273726126772024, 892: 9.508475300796515, 893: 8.552963855769079, 894: 6.800425099694305, 895: 7.429033759116678, 896: 8.478855883615356, 897: 9.508475300796515, 898: 7.074861945396065, 899: 9.508475300796515, 900: 9.172003064175302, 901: 8.409863012128405, 902: 8.22754145533445, 903: 9.32615374400256, 904: 1.3958875870765595, 905: 3.5885067553936025, 906: 6.675261956740298, 907: 4.578327257612946, 908: 5.291913105850164, 909: 8.720017940432244, 910: 7.785708703055411, 911: 7.50699530058639, 912: 9.172003064175302, 913: 6.652005094576031, 914: 7.454351567100969, 915: 9.32615374400256, 916: 6.1207009394664995, 917: 5.139027448329493, 918: 8.720017940432244, 919: 4.328941470238445, 920: 8.720017940432244, 921: 7.716715831568459, 922: 7.356713097537052, 923: 8.633006563442613, 924: 9.508475300796515, 925: 6.024163012423853, 926: 6.869417971181256, 927: 6.19793228740249, 928: 6.532945734560043, 929: 7.93985938288267, 930: 6.19793228740249, 931: 6.100633376415691, 932: 8.920688635894397, 933: 2.649490186183807, 934: 5.417469639839928, 935: 5.860417841202834, 936: 5.315794837853552, 937: 5.461921402410763, 938: 6.574618430960611, 939: 4.654883756309944, 940: 7.652177310430888, 941: 7.454351567100969, 942: 5.209830275061684, 943: 4.232403543195797, 944: 5.8761661981709725, 945: 4.185465321658107, 946: 5.51949125423224, 947: 6.39941434193552, 948: 5.819595846682579, 949: 6.813848120026445, 950: 8.478855883615356, 951: 4.046339849019083, 952: 7.380243594947246, 953: 8.22754145533445, 954: 6.787179872944284, 955: 6.502792696389355, 956: 6.512743027242523, 957: 6.869417971181256, 958: 9.172003064175302, 959: 6.787179872944284, 960: 6.943525943334978, 961: 5.1883240698407205, 962: 5.761326938558603, 963: 7.621405651764134, 964: 2.828122630048971, 965: 5.584523724503095, 966: 6.162086155629354, 967: 4.379760718634658, 968: 6.018046785406416, 969: 5.692963195749212, 970: 4.717655767921794, 971: 7.246712202322724, 972: 7.246712202322724, 973: 5.604484467065633, 974: 4.9845151702339665, 975: 6.19793228740249, 976: 8.920688635894397, 977: 5.427553758906555, 978: 5.5306645548303655, 979: 7.50699530058639, 980: 5.600460316765908, 981: 7.110580027998144, 982: 2.6221479692279983, 983: 5.242982482378585, 984: 5.91390652615382, 985: 3.6140724665316637, 986: 5.839798554000097, 987: 6.364323022124251, 988: 5.0042310333983835, 989: 7.859816675209133, 990: 6.711193965966362, 991: 5.63311627973996, 992: 4.689807940546019, 993: 6.155068582970708, 994: 9.508475300796515, 995: 5.497512347513465, 996: 5.515794392350914, 997: 7.007039349057304, 998: 5.64564253955914, 999: 8.920688635894397, 1000: 5.799793219386399, 1001: 8.2846998691744, 1002: 9.32615374400256, 1003: 7.074861945396065, 1004: 8.173474234064175, 1005: 9.172003064175302, 1006: 9.32615374400256, 1007: 9.508475300796515, 1008: 9.172003064175302, 1009: 6.898405508054508, 1010: 5.490292099539978, 1011: 8.920688635894397, 1012: 8.720017940432244, 1013: 6.445084378768708, 1014: 8.815328120236568, 1015: 9.038471671550779, 1016: 9.038471671550779, 1017: 8.026870759872299, 1018: 6.959030129870943, 1019: 8.815328120236568, 1020: 8.478855883615356, 1021: 3.5885067553936025, 1022: 6.19793228740249, 1023: 7.147621299678493, 1024: 5.075280379548234, 1025: 6.675261956740298, 1026: 7.50699530058639, 1027: 6.787179872944284, 1028: 5.391065465643417, 1029: 5.334088030900878, 1030: 6.2351112906442445, 1031: 7.683926008745469, 1032: 7.205890207802469, 1033: 6.800425099694305, 1034: 7.128929166666341, 1035: 6.959030129870943, 1036: 8.920688635894397, 1037: 8.2846998691744, 1038: 2.9375923384569305, 1039: 5.637274289888624, 1040: 6.011967739330034, 1041: 4.751442765499178, 1042: 6.19793228740249, 1043: 4.500510235256138, 1044: 4.969444917312968, 1045: 8.026870759872299, 1046: 6.990778828185523, 1047: 6.074488096311368, 1048: 4.744593423653603, 1049: 6.17627079062131, 1050: 5.8552230243257295, 1051: 6.10727791913436, 1052: 8.22754145533445, 1053: 6.127480626451879, 1054: 7.93985938288267, 1055: 4.350570087965223, 1056: 7.982418997301465, 1057: 7.0925615224954655, 1058: 6.39941434193552, 1059: 8.409863012128405, 1060: 8.122180939676625, 1061: 7.226092915119988, 1062: 9.038471671550779, 1063: 6.675261956740298, 1064: 7.0925615224954655, 1065: 7.50699530058639, 1066: 6.1207009394664995, 1067: 5.64564253955914, 1068: 9.172003064175302, 1069: 8.720017940432244, 1070: 7.040375769324895, 1071: 7.074861945396065, 1072: 3.181968109876914, 1073: 6.330421470448569, 1074: 6.699072605434017, 1075: 4.5812216156393095, 1076: 6.9132205938396485, 1077: 6.748465360763594, 1078: 6.024163012423853, 1079: 8.720017940432244, 1080: 8.22754145533445, 1081: 4.356340444426559, 1082: 5.458430997470994, 1083: 6.663565916977107, 1084: 6.928258471204189, 1085: 5.697378213958329, 1086: 8.026870759872299, 1087: 6.322122667633874, 1088: 9.32615374400256, 1089: 3.535684018954154, 1090: 6.652005094576031, 1091: 6.1207009394664995, 1092: 5.352722110445771, 1093: 7.007039349057304, 1094: 7.007039349057304, 1095: 5.692963195749212, 1096: 8.920688635894397, 1097: 8.478855883615356, 1098: 6.19065952807341, 1099: 5.340260890007959, 1100: 5.790037044441034, 1101: 5.5306645548303655, 1102: 7.28927181674152, 1103: 9.172003064175302, 1104: 6.596124636181575, 1105: 4.637868651303962, 1106: 8.478855883615356, 1107: 4.887431765652133, 1108: 9.508475300796515, 1109: 9.172003064175302, 1110: 6.723464058558176, 1111: 9.32615374400256, 1112: 8.478855883615356, 1113: 4.076501549435804, 1114: 8.026870759872299, 1115: 7.404341146526307, 1116: 5.850055054167287, 1117: 7.750617383244141, 1118: 8.026870759872299, 1119: 4.975875807643259, 1120: 8.920688635894397, 1121: 6.928258471204189, 1122: 6.036508848246152, 1123: 8.815328120236568, 1124: 6.574618430960611, 1125: 7.5915526886144535, 1126: 9.172003064175302, 1127: 8.720017940432244, 1128: 6.473522314089243, 1129: 8.815328120236568, 1130: 8.122180939676625, 1131: 9.508475300796515, 1132: 8.920688635894397, 1133: 7.93985938288267, 1134: 9.172003064175302, 1135: 9.172003064175302, 1136: 9.172003064175302, 1137: 3.0014961404364104, 1138: 6.426565331001472, 1139: 3.5879698426290263, 1140: 4.967310444784335, 1141: 8.122180939676625, 1142: 7.110580027998144, 1143: 7.267765611520557, 1144: 9.32615374400256, 1145: 6.155068582970708, 1146: 7.3112507234602955, 1147: 8.633006563442613, 1148: 5.675495502708822, 1149: 4.939969099180015, 1150: 8.073390775507193, 1151: 8.920688635894397, 1152: 3.6482590402984867, 1153: 8.920688635894397, 1154: 7.333723579312354, 1155: 6.445084378768708, 1156: 8.409863012128405, 1157: 8.2846998691744, 1158: 5.384571936332869, 1159: 5.262841291028188, 1160: 5.662592097872913, 1161: 5.444589946059122, 1162: 7.683926008745469, 1163: 5.964621618732836, 1164: 5.596452295368368, 1165: 9.32615374400256, 1166: 1.389970233209418, 1167: 3.4014524130542605, 1168: 3.8722581456360796, 1169: 3.1837579796942928, 1170: 3.9439548934738213, 1171: 4.045491312693244, 1172: 3.38379190990231, 1173: 5.604484467065633, 1174: 5.121461124611594, 1175: 3.4773093868369807, 1176: 2.7168045008351793, 1177: 4.0514462430936575, 1178: 7.246712202322724, 1179: 2.574662487495088, 1180: 4.369153665738936, 1181: 5.2125513651760444, 1182: 3.6842466730644463, 1183: 6.4174328474381985, 1184: 8.122180939676625, 1185: 3.738281060621062, 1186: 7.3112507234602955, 1187: 6.827453772082224, 1188: 6.258100808868943, 1189: 6.426565331001472, 1190: 6.34722858876495, 1191: 6.454474119118548, 1192: 9.508475300796515, 1193: 8.2846998691744, 1194: 6.553565021762779, 1195: 6.898405508054508, 1196: 8.22754145533445, 1197: 5.167270660642888, 1198: 5.082431780705859, 1199: 8.552963855769079, 1200: 7.859816675209133, 1201: 9.508475300796515, 1202: 3.9048815533957457, 1203: 7.562565151741201, 1204: 8.073390775507193, 1205: 5.64564253955914, 1206: 7.562565151741201, 1207: 7.147621299678493, 1208: 5.468938975069409, 1209: 9.508475300796515, 1210: 8.815328120236568, 1211: 6.959030129870943, 1212: 5.761326938558603, 1213: 7.480327053504229, 1214: 5.770805682513147, 1215: 6.652005094576031, 1216: 7.480327053504229, 1217: 7.429033759116678, 1218: 2.8243636981702696, 1219: 5.7660550797545485, 1220: 6.675261956740298, 1221: 3.4451553165881044, 1222: 6.553565021762779, 1223: 6.675261956740298, 1224: 5.220759345593875, 1225: 8.22754145533445, 1226: 7.3112507234602955, 1227: 6.061667407882307, 1228: 5.437740604213547, 1229: 6.08747529183818, 1230: 5.844913654666868, 1231: 5.51949125423224, 1232: 6.748465360763594, 1233: 5.74263480554645, 1234: 5.407486195855745, 1235: 8.633006563442613, 1236: 9.172003064175302, 1237: 8.026870759872299, 1238: 9.32615374400256, 1239: 8.22754145533445, 1240: 9.508475300796515, 1241: 8.633006563442613, 1242: 8.633006563442613, 1243: 9.32615374400256, 1244: 5.865639785183985, 1245: 4.639403571022045, 1246: 8.345324490990834, 1247: 8.122180939676625, 1248: 5.538183387244393, 1249: 8.122180939676625, 1250: 8.633006563442613, 1251: 7.480327053504229, 1252: 5.824608388506123, 1253: 8.478855883615356, 1254: 7.899037388362414, 1255: 8.122180939676625, 1256: 9.038471671550779, 1257: 3.1168932519069634, 1258: 6.943525943334978, 1259: 7.186087580506289, 1260: 4.675373046762417, 1261: 5.850055054167287, 1262: 7.267765611520557, 1263: 6.435781986106395, 1264: 9.32615374400256, 1265: 5.02208865079839, 1266: 4.301177332635646, 1267: 5.993949233827356, 1268: 6.928258471204189, 1269: 6.435781986106395, 1270: 6.761204386541023, 1271: 6.522793363096025, 1272: 6.574618430960611, 1273: 2.3631214495305835, 1274: 5.512111146934617, 1275: 5.38781343025704, 1276: 4.170937221095197, 1277: 5.834709484492627, 1278: 3.4653675205366943, 1279: 4.686582131297136, 1280: 7.652177310430888, 1281: 4.285959647664759, 1282: 5.441159410962333, 1283: 4.999816015189268, 1284: 6.435781986106395, 1285: 9.508475300796515, 1286: 5.970418736417162, 1287: 5.662592097872913, 1288: 7.50699530058639, 1289: 5.254282037632518, 1290: 9.508475300796515, 1291: 9.038471671550779, 1292: 3.5055763760628698, 1293: 7.454351567100969, 1294: 6.381714764836119, 1295: 5.1777419605101835, 1296: 8.122180939676625, 1297: 7.750617383244141, 1298: 6.34722858876495, 1299: 8.478855883615356, 1300: 5.988014498307542, 1301: 6.127480626451879, 1302: 5.1140261461240755, 1303: 5.89755738815229, 1304: 5.149205653245249, 1305: 9.32615374400256, 1306: 7.899037388362414, 1307: 7.205890207802469, 1308: 7.28927181674152, 1309: 3.104570031843943, 1310: 6.205258327494563, 1311: 6.10727791913436, 1312: 4.415952847228075, 1313: 6.553565021762779, 1314: 6.162086155629354, 1315: 5.715235831358336, 1316: 8.22754145533445, 1317: 7.356713097537052, 1318: 5.133976932543424, 1319: 5.259980058747155, 1320: 6.313892168497358, 1321: 8.920688635894397, 1322: 6.19065952807341, 1323: 5.63311627973996, 1324: 7.404341146526307, 1325: 5.6798339043074195, 1326: 2.929501905151584, 1327: 5.724285666878253, 1328: 5.719750511712862, 1329: 5.365340574404982, 1330: 6.483184225000979, 1331: 4.856421528909573, 1332: 5.54575918105285, 1333: 8.22754145533445, 1334: 7.246712202322724, 1335: 5.024343443185479, 1336: 4.883502487512244, 1337: 5.63311627973996, 1338: 4.742888393402518, 1339: 5.641449661299104, 1340: 8.478855883615356, 1341: 6.61810354290035, 1342: 3.8255760370567375, 1343: 8.720017940432244, 1344: 4.002331087046161, 1345: 9.172003064175302, 1346: 8.633006563442613, 1347: 5.82964618253608, 1348: 9.172003064175302, 1349: 9.508475300796515, 1350: 3.102255598673276, 1351: 6.265882949310998, 1352: 6.512743027242523, 1353: 4.813464410808633, 1354: 6.364323022124251, 1355: 6.9747784868390825, 1356: 4.269907938654252, 1357: 9.038471671550779, 1358: 7.356713097537052, 1359: 5.91390652615382, 1360: 5.082431780705859, 1361: 7.110580027998144, 1362: 5.953127239307101, 1363: 5.300802053267411, 1364: 9.508475300796515, 1365: 7.128929166666341, 1366: 9.172003064175302, 1367: 7.982418997301465, 1368: 9.508475300796515, 1369: 7.429033759116678, 1370: 8.552963855769079, 1371: 3.0713638559475362, 1372: 6.19065952807341, 1373: 8.720017940432244, 1374: 8.815328120236568, 1375: 8.920688635894397, 1376: 8.920688635894397, 1377: 8.22754145533445, 1378: 8.920688635894397, 1379: 7.785708703055411, 1380: 9.038471671550779, 1381: 8.815328120236568, 1382: 6.4929403999463435, 1383: 9.038471671550779, 1384: 9.508475300796515, 1385: 7.0925615224954655, 1386: 9.172003064175302, 1387: 8.920688635894397, 1388: 8.920688635894397, 1389: 4.9954204037162295, 1390: 8.026870759872299, 1391: 7.205890207802469, 1392: 7.040375769324895, 1393: 8.22754145533445, 1394: 9.32615374400256, 1395: 9.172003064175302, 1396: 7.186087580506289, 1397: 7.110580027998144, 1398: 8.720017940432244, 1399: 7.110580027998144, 1400: 7.023568651008515, 1401: 9.038471671550779, 1402: 7.454351567100969, 1403: 7.899037388362414, 1404: 9.508475300796515, 1405: 7.007039349057304, 1406: 9.508475300796515, 1407: 7.93985938288267, 1408: 9.508475300796515, 1409: 5.75662104752119, 1410: 8.552963855769079, 1411: 8.720017940432244, 1412: 7.982418997301465, 1413: 8.633006563442613, 1414: 8.720017940432244, 1415: 8.633006563442613, 1416: 9.508475300796515, 1417: 9.508475300796515, 1418: 6.813848120026445, 1419: 8.552963855769079, 1420: 8.552963855769079, 1421: 8.478855883615356, 1422: 9.508475300796515, 1423: 8.552963855769079, 1424: 6.454474119118548, 1425: 9.508475300796515, 1426: 6.883806708633355, 1427: 9.508475300796515, 1428: 9.508475300796515, 1429: 7.007039349057304, 1430: 8.920688635894397, 1431: 9.32615374400256, 1432: 8.2846998691744, 1433: 9.038471671550779, 1434: 6.036508848246152, 1435: 9.172003064175302, 1436: 8.633006563442613, 1437: 7.0925615224954655, 1438: 7.899037388362414, 1439: 8.409863012128405, 1440: 9.508475300796515, 1441: 9.508475300796515, 1442: 8.815328120236568, 1443: 9.508475300796515, 1444: 8.920688635894397, 1445: 9.508475300796515, 1446: 7.205890207802469, 1447: 7.93985938288267, 1448: 6.652005094576031, 1449: 9.508475300796515, 1450: 8.633006563442613, 1451: 9.508475300796515, 1452: 9.32615374400256, 1453: 7.750617383244141, 1454: 9.172003064175302, 1455: 3.6352313850759637, 1456: 6.100633376415691, 1457: 5.970418736417162, 1458: 6.322122667633874, 1459: 6.454474119118548, 1460: 6.030316877998231, 1461: 6.19065952807341, 1462: 9.508475300796515, 1463: 6.990778828185523, 1464: 5.886804596376028, 1465: 5.794903234092207, 1466: 6.258100808868943, 1467: 6.055318180203648, 1468: 7.007039349057304, 1469: 9.172003064175302, 1470: 5.964621618732836, 1471: 9.172003064175302, 1472: 9.508475300796515, 1473: 7.859816675209133, 1474: 9.32615374400256, 1475: 8.345324490990834, 1476: 1.6183419688128007, 1477: 4.260399150685225, 1478: 7.859816675209133, 1479: 5.118976651283932, 1480: 6.127480626451879, 1481: 9.32615374400256, 1482: 9.172003064175302, 1483: 8.552963855769079, 1484: 9.32615374400256, 1485: 7.333723579312354, 1486: 8.173474234064175, 1487: 6.787179872944284, 1488: 5.881471250400666, 1489: 9.508475300796515, 1490: 4.973727579104969, 1491: 9.32615374400256, 1492: 8.122180939676625, 1493: 8.22754145533445, 1494: 6.761204386541023, 1495: 6.220073413279704, 1496: 6.943525943334978, 1497: 7.404341146526307, 1498: 8.815328120236568, 1499: 7.621405651764134, 1500: 7.267765611520557, 1501: 2.3557367038957118, 1502: 4.538662001220514, 1503: 5.512111146934617, 1504: 4.152832867629209, 1505: 5.374910025421133, 1506: 6.127480626451879, 1507: 4.14343430220557, 1508: 7.333723579312354, 1509: 6.883806708633355, 1510: 5.185668025782604, 1511: 4.318857351171818, 1512: 5.501142115564043, 1513: 8.409863012128405, 1514: 4.542837372630995, 1515: 4.57544125272381, 1516: 6.473522314089243, 1517: 5.226269001404844, 1518: 8.122180939676625, 1519: 8.920688635894397, 1520: 4.686582131297136, 1521: 8.173474234064175, 1522: 8.026870759872299, 1523: 7.380243594947246, 1524: 6.761204386541023, 1525: 7.822076347226286, 1526: 7.356713097537052, 1527: 7.023568651008515, 1528: 8.409863012128405, 1529: 9.172003064175302, 1530: 5.770805682513147, 1531: 6.652005094576031, 1532: 9.508475300796515, 1533: 5.303782681405549, 1534: 8.22754145533445, 1535: 9.32615374400256, 1536: 7.057470202684196, 1537: 8.552963855769079, 1538: 8.815328120236568, 1539: 7.93985938288267, 1540: 8.478855883615356, 1541: 7.147621299678493, 1542: 8.815328120236568, 1543: 6.898405508054508, 1544: 7.93985938288267, 1545: 8.22754145533445, 1546: 9.038471671550779, 1547: 3.9814300046403677, 1548: 6.502792696389355, 1549: 7.859816675209133, 1550: 4.642480496526526, 1551: 7.822076347226286, 1552: 7.93985938288267, 1553: 6.787179872944284, 1554: 9.172003064175302, 1555: 8.2846998691744, 1556: 7.205890207802469, 1557: 6.687096414387302, 1558: 7.822076347226286, 1559: 7.267765611520557, 1560: 7.040375769324895, 1561: 7.93985938288267, 1562: 7.429033759116678, 1563: 6.390525394518274, 1564: 7.356713097537052, 1565: 7.3112507234602955, 1566: 5.684191209676375, 1567: 8.552963855769079, 1568: 9.32615374400256, 1569: 7.147621299678493, 1570: 9.32615374400256, 1571: 9.32615374400256, 1572: 8.552963855769079, 1573: 7.50699530058639, 1574: 8.345324490990834, 1575: 6.959030129870943, 1576: 8.478855883615356, 1577: 9.172003064175302, 1578: 9.038471671550779, 1579: 4.14343430220557, 1580: 9.172003064175302, 1581: 9.172003064175302, 1582: 6.265882949310998, 1583: 7.93985938288267, 1584: 9.508475300796515, 1585: 8.920688635894397, 1586: 5.324899604846471, 1587: 5.047175485228125, 1588: 7.246712202322724, 1589: 7.785708703055411, 1590: 8.22754145533445, 1591: 8.409863012128405, 1592: 8.345324490990834, 1593: 8.633006563442613, 1594: 2.7392926716783172, 1595: 5.881471250400666, 1596: 6.08747529183818, 1597: 5.616655002685888, 1598: 6.19065952807341, 1599: 3.5799505534624068, 1600: 5.340260890007959, 1601: 8.026870759872299, 1602: 6.943525943334978, 1603: 6.445084378768708, 1604: 5.724285666878253, 1605: 6.800425099694305, 1606: 6.564036321630074, 1607: 6.454474119118548, 1608: 8.478855883615356, 1609: 4.15377760081237, 1610: 5.349592217436843, 1611: 9.508475300796515, 1612: 7.899037388362414, 1613: 6.9132205938396485, 1614: 8.478855883615356, 1615: 8.409863012128405, 1616: 9.508475300796515, 1617: 7.750617383244141, 1618: 8.345324490990834, 1619: 8.026870759872299, 1620: 7.3112507234602955, 1621: 7.074861945396065, 1622: 8.633006563442613, 1623: 8.026870759872299, 1624: 8.173474234064175, 1625: 4.751442765499178, 1626: 7.040375769324895, 1627: 7.50699530058639, 1628: 6.183439280099924, 1629: 8.22754145533445, 1630: 7.899037388362414, 1631: 6.869417971181256, 1632: 8.073390775507193, 1633: 8.073390775507193, 1634: 7.147621299678493, 1635: 7.982418997301465, 1636: 7.683926008745469, 1637: 6.9747784868390825, 1638: 8.815328120236568, 1639: 8.633006563442613, 1640: 4.216176006574041, 1641: 6.711193965966362, 1642: 6.898405508054508, 1643: 7.404341146526307, 1644: 7.267765611520557, 1645: 7.716715831568459, 1646: 6.663565916977107, 1647: 9.172003064175302, 1648: 8.552963855769079, 1649: 7.562565151741201, 1650: 6.813848120026445, 1651: 5.654081408205005, 1652: 5.970418736417162, 1653: 7.110580027998144, 1654: 7.5915526886144535, 1655: 9.508475300796515, 1656: 7.074861945396065, 1657: 9.32615374400256, 1658: 7.859816675209133, 1659: 9.038471671550779, 1660: 4.59876592529022, 1661: 9.038471671550779, 1662: 8.409863012128405, 1663: 6.6292768434984755, 1664: 8.552963855769079, 1665: 9.172003064175302, 1666: 5.286030735947098, 1667: 9.32615374400256, 1668: 7.716715831568459, 1669: 6.883806708633355, 1670: 9.508475300796515, 1671: 7.166669494649188, 1672: 7.785708703055411, 1673: 8.920688635894397, 1674: 9.172003064175302, 1675: 8.2846998691744, 1676: 8.815328120236568, 1677: 3.3864211839849307, 1678: 7.28927181674152, 1679: 4.443351821416189, 1680: 4.601720137187651, 1681: 8.026870759872299, 1682: 7.683926008745469, 1683: 7.454351567100969, 1684: 8.920688635894397, 1685: 6.141179470810041, 1686: 6.943525943334978, 1687: 9.32615374400256, 1688: 5.82964618253608, 1689: 5.493895707043277, 1690: 9.32615374400256, 1691: 8.22754145533445, 1692: 3.691959556153074, 1693: 8.122180939676625, 1694: 7.28927181674152, 1695: 5.662592097872913, 1696: 8.815328120236568, 1697: 9.038471671550779, 1698: 5.91390652615382, 1699: 9.508475300796515, 1700: 4.867937970971132, 1701: 6.049009011010384, 1702: 5.834709484492627, 1703: 7.480327053504229, 1704: 6.127480626451879, 1705: 6.113966907285156, 1706: 9.038471671550779, 1707: 9.038471671550779, 1708: 2.222831681476448, 1709: 4.468928663205839, 1710: 4.986686723747474, 1711: 4.231381570700105, 1712: 4.835646466334609, 1713: 4.9954204037162295, 1714: 4.319972800255685, 1715: 6.813848120026445, 1716: 6.553565021762779, 1717: 5.068179757998657, 1718: 4.052299849632897, 1719: 5.359011439353334, 1720: 9.32615374400256, 1721: 4.298989147955094, 1722: 5.1698782240499686, 1723: 5.028868337783769, 1724: 5.047175485228125, 1725: 6.155068582970708, 1726: 8.552963855769079, 1727: 3.4171654187188163, 1728: 6.532945734560043, 1729: 6.959030129870943, 1730: 4.83939178906477, 1731: 6.364323022124251, 1732: 6.761204386541023, 1733: 5.964621618732836, 1734: 9.32615374400256, 1735: 8.720017940432244, 1736: 6.355739278432859, 1737: 6.148099913654614, 1738: 7.333723579312354, 1739: 5.139027448329493, 1740: 5.300802053267411, 1741: 8.478855883615356, 1742: 6.959030129870943, 1743: 4.1341232479724805, 1744: 7.333723579312354, 1745: 7.356713097537052, 1746: 5.592460274098831, 1747: 7.683926008745469, 1748: 7.454351567100969, 1749: 5.692963195749212, 1750: 8.920688635894397, 1751: 7.652177310430888, 1752: 6.19793228740249, 1753: 8.073390775507193, 1754: 6.19793228740249, 1755: 7.226092915119988, 1756: 7.480327053504229, 1757: 8.026870759872299, 1758: 8.633006563442613, 1759: 3.1464822154612646, 1760: 6.220073413279704, 1761: 7.166669494649188, 1762: 3.7673970413966167, 1763: 7.186087580506289, 1764: 7.333723579312354, 1765: 6.183439280099924, 1766: 8.920688635894397, 1767: 8.478855883615356, 1768: 6.652005094576031, 1769: 5.515794392350914, 1770: 6.6070537067137645, 1771: 6.4174328474381985, 1772: 6.162086155629354, 1773: 6.055318180203648, 1774: 6.502792696389355, 1775: 5.770805682513147, 1776: 8.920688635894397, 1777: 9.32615374400256, 1778: 8.173474234064175, 1779: 9.038471671550779, 1780: 8.409863012128405, 1781: 9.508475300796515, 1782: 6.205258327494563, 1783: 2.7767414660598524, 1784: 6.19793228740249, 1785: 7.534394274774505, 1786: 3.140631226475465, 1787: 7.226092915119988, 1788: 7.246712202322724, 1789: 5.941763480656785, 1790: 9.038471671550779, 1791: 8.920688635894397, 1792: 5.300802053267411, 1793: 4.448415123372736, 1794: 8.026870759872299, 1795: 6.84124709421456, 1796: 6.652005094576031, 1797: 6.9132205938396485, 1798: 2.035292582856803, 1799: 4.232403543195797, 1800: 5.226269001404844, 1801: 3.70575287828541, 1802: 4.80255521170828, 1803: 5.051805123126867, 1804: 3.7725483728137466, 1805: 6.543202234727232, 1806: 4.813464410808633, 1807: 4.582671942216956, 1808: 3.94548863610577, 1809: 5.451486525118183, 1810: 8.552963855769079, 1811: 4.911337286505688, 1812: 4.6595749298858244, 1813: 6.162086155629354, 1814: 4.179628729213655, 1815: 8.173474234064175, 1816: 2.801124086159098, 1817: 5.790037044441034, 1818: 5.751937198208763, 1819: 4.406172818174435, 1820: 6.330421470448569, 1821: 3.830352572920891, 1822: 5.047175485228125, 1823: 8.478855883615356, 1824: 6.34722858876495, 1825: 5.8761661981709725, 1826: 5.458430997470994, 1827: 6.687096414387302, 1828: 6.574618430960611, 1829: 6.141179470810041, 1830: 8.409863012128405, 1831: 6.005925424874071, 1832: 9.32615374400256, 1833: 4.0295044345552204, 1834: 7.205890207802469, 1835: 7.040375769324895, 1836: 5.924956362340405, 1837: 7.785708703055411, 1838: 8.552963855769079, 1839: 6.330421470448569, 1840: 8.552963855769079, 1841: 6.4929403999463435, 1842: 6.711193965966362, 1843: 5.824608388506123, 1844: 6.17627079062131, 1845: 5.870889141070129, 1846: 9.508475300796515, 1847: 8.073390775507193, 1848: 6.813848120026445, 1849: 9.508475300796515, 1850: 7.007039349057304, 1851: 3.6257101706118733, 1852: 6.8552333361893, 1853: 6.699072605434017, 1854: 4.438314027386232, 1855: 7.147621299678493, 1856: 6.564036321630074, 1857: 6.074488096311368, 1858: 8.478855883615356, 1859: 7.899037388362414, 1860: 7.186087580506289, 1861: 5.982114776180353, 1862: 7.110580027998144, 1863: 6.827453772082224, 1864: 6.390525394518274, 1865: 8.2846998691744, 1866: 7.0925615224954655, 1867: 3.526556166532064, 1868: 5.692963195749212, 1869: 5.953127239307101, 1870: 5.592460274098831, 1871: 6.9132205938396485, 1872: 5.99991940081386, 1873: 6.005925424874071, 1874: 9.32615374400256, 1875: 7.93985938288267, 1876: 7.057470202684196, 1877: 5.4208197267252105, 1878: 5.91390652615382, 1879: 9.508475300796515, 1880: 5.588484125719192, 1881: 7.186087580506289, 1882: 7.750617383244141, 1883: 7.128929166666341, 1884: 8.720017940432244, 1885: 9.508475300796515, 1886: 3.9378433389278187, 1887: 9.038471671550779, 1888: 8.815328120236568, 1889: 4.057436847230814, 1890: 8.815328120236568, 1891: 6.502792696389355, 1892: 8.920688635894397, 1893: 8.345324490990834, 1894: 3.4090536121834405, 1895: 6.322122667633874, 1896: 6.735886578556733, 1897: 5.002021087747581, 1898: 6.959030129870943, 1899: 6.869417971181256, 1900: 4.83191511872175, 1901: 8.552963855769079, 1902: 7.0925615224954655, 1903: 6.19793228740249, 1904: 5.193657415816083, 1905: 7.454351567100969, 1906: 9.508475300796515, 1907: 6.011967739330034, 1908: 6.663565916977107, 1909: 9.172003064175302, 1910: 6.761204386541023, 1911: 9.508475300796515, 1912: 7.128929166666341, 1913: 9.508475300796515, 1914: 9.172003064175302, 1915: 9.508475300796515, 1916: 8.478855883615356, 1917: 5.964621618732836, 1918: 9.038471671550779, 1919: 6.687096414387302, 1920: 9.038471671550779, 1921: 9.508475300796515, 1922: 8.122180939676625, 1923: 8.920688635894397, 1924: 8.633006563442613, 1925: 2.9234077034649735, 1926: 6.553565021762779, 1927: 3.921226642396265, 1928: 4.142499285774663, 1929: 7.859816675209133, 1930: 6.8552333361893, 1931: 6.928258471204189, 1932: 7.480327053504229, 1933: 5.733418150441526, 1934: 6.8552333361893, 1935: 8.552963855769079, 1936: 5.331015831863907, 1937: 4.965180518526511, 1938: 9.32615374400256, 1939: 7.534394274774505, 1940: 8.552963855769079, 1941: 2.931448783808525, 1942: 7.859816675209133, 1943: 5.215279879829248, 1944: 4.258298309576412, 1945: 7.93985938288267, 1946: 8.720017940432244, 1947: 4.693044189325227, 1948: 5.538183387244393, 1949: 4.925550723755743, 1950: 5.362170999643703, 1951: 6.445084378768708, 1952: 5.10910002778802, 1953: 5.434333445891934, 1954: 8.345324490990834, 1955: 7.899037388362414, 1956: 2.1094442572931023, 1957: 4.822647211790969, 1958: 4.889402209639432, 1959: 3.9918259399314904, 1960: 4.807994935004098, 1961: 5.346472090100599, 1962: 4.556882547334043, 1963: 6.928258471204189, 1964: 6.313892168497358, 1965: 4.438314027386232, 1966: 4.119403570980014, 1967: 5.259980058747155, 1968: 8.478855883615356, 1969: 3.9854156615705714, 1970: 5.479558543896869, 1971: 4.28811947571819, 1972: 4.463760693047396, 1973: 5.291913105850164, 1974: 9.038471671550779, 1975: 3.229578712491961, 1976: 6.258100808868943, 1977: 6.265882949310998, 1978: 5.5572315822150875, 1979: 6.381714764836119, 1980: 6.162086155629354, 1981: 6.068057205981078, 1982: 8.2846998691744, 1983: 5.343361667686207, 1984: 5.99991940081386, 1985: 7.750617383244141, 1986: 4.673781956530174, 1987: 4.654883756309944, 1988: 8.073390775507193, 1989: 7.246712202322724, 1990: 8.920688635894397, 1991: 1.8149025064131241, 1992: 4.124898090297655, 1993: 4.952495358999196, 1994: 3.7302039741495743, 1995: 4.621138223044753, 1996: 3.162838939967919, 1997: 3.5397677408111488, 1998: 6.355739278432859, 1999: 6.227564085008861, 2000: 4.406172818174435, 2001: 3.820144930699235, 2002: 4.969444917312968, 2003: 7.480327053504229, 2004: 4.281653935953548, 2005: 4.371501084657241, 2006: 5.751937198208763, 2007: 4.648662896434843, 2008: 9.32615374400256, 2009: 7.93985938288267, 2010: 2.3190057211423882, 2011: 5.116498335269465, 2012: 6.4929403999463435, 2013: 2.857678921623318, 2014: 6.543202234727232, 2015: 6.322122667633874, 2016: 5.391065465643417, 2017: 8.2846998691744, 2018: 7.621405651764134, 2019: 5.988014498307542, 2020: 4.522132699269303, 2021: 5.572735768751053, 2022: 5.501142115564043, 2023: 5.454952733094669, 2024: 5.303782681405549, 2025: 5.526926232719759, 2026: 4.965180518526511, 2027: 7.750617383244141, 2028: 8.552963855769079, 2029: 7.057470202684196, 2030: 8.815328120236568, 2031: 7.534394274774505, 2032: 8.478855883615356, 2033: 8.073390775507193, 2034: 8.026870759872299, 2035: 8.2846998691744, 2036: 8.633006563442613, 2037: 5.719750511712862, 2038: 9.508475300796515, 2039: 3.208056545961212, 2040: 6.19065952807341, 2041: 6.943525943334978, 2042: 4.1230632273975445, 2043: 6.522793363096025, 2044: 7.205890207802469, 2045: 5.728841483414114, 2046: 8.633006563442613, 2047: 7.3112507234602955, 2048: 6.220073413279704, 2049: 4.791763740075516, 2050: 7.186087580506289, 2051: 6.761204386541023, 2052: 6.011967739330034, 2053: 8.720017940432244, 2054: 6.813848120026445, 2055: 2.9181742525998287, 2056: 5.99991940081386, 2057: 6.34722858876495, 2058: 4.59876592529022, 2059: 5.982114776180353, 2060: 6.543202234727232, 2061: 5.819595846682579, 2062: 4.653324909540654, 2063: 4.443351821416189, 2064: 5.561085151531077, 2065: 6.454474119118548, 2066: 8.920688635894397, 2067: 6.390525394518274, 2068: 6.2351112906442445, 2069: 5.751937198208763, 2070: 6.273726126772024, 2071: 8.720017940432244, 2072: 2.48899977220397, 2073: 4.883502487512244, 2074: 5.17249260462404, 2075: 4.0129477649607725, 2076: 5.553392805907921, 2077: 3.971141033777978, 2078: 4.481966657543969, 2079: 7.166669494649188, 2080: 5.93612966293853, 2081: 5.209830275061684, 2082: 4.7143390152958, 2083: 5.592460274098831, 2084: 9.32615374400256, 2085: 5.359011439353334, 2086: 5.444589946059122, 2087: 7.128929166666341, 2088: 5.430937856890795, 2089: 9.32615374400256, 2090: 8.720017940432244, 2091: 3.554712620872544, 2092: 7.380243594947246, 2093: 6.313892168497358, 2094: 5.242982482378585, 2095: 7.5915526886144535, 2096: 8.345324490990834, 2097: 6.258100808868943, 2098: 9.172003064175302, 2099: 8.073390775507193, 2100: 5.592460274098831, 2101: 6.242715890029463, 2102: 6.080960610816986, 2103: 5.48670143140925, 2104: 5.087227952969352, 2105: 8.345324490990834, 2106: 6.748465360763594, 2107: 8.633006563442613, 2108: 6.959030129870943, 2109: 3.243934833626114, 2110: 6.84124709421456, 2111: 5.982114776180353, 2112: 4.130422966229625, 2113: 7.186087580506289, 2114: 6.273726126772024, 2115: 5.641449661299104, 2116: 8.920688635894397, 2117: 7.404341146526307, 2118: 6.220073413279704, 2119: 5.649853072095484, 2120: 6.068057205981078, 2121: 6.585313720077359, 2122: 5.666874759664914, 2123: 7.333723579312354, 2124: 7.186087580506289, 2125: 3.1286918044153387, 2126: 5.6798339043074195, 2127: 5.733418150441526, 2128: 5.384571936332869, 2129: 6.6070537067137645, 2130: 5.649853072095484, 2131: 5.675495502708822, 2132: 8.2846998691744, 2133: 7.3112507234602955, 2134: 6.265882949310998, 2135: 5.1115600536288825, 2136: 5.407486195855745, 2137: 4.49119546398159, 2138: 6.959030129870943, 2139: 8.633006563442613, 2140: 6.883806708633355, 2141: 9.038471671550779, 2142: 4.841269723888971, 2143: 8.920688635894397, 2144: 8.026870759872299, 2145: 5.362170999643703, 2146: 9.038471671550779, 2147: 8.409863012128405, 2148: 7.5915526886144535, 2149: 7.110580027998144, 2150: 9.508475300796515, 2151: 7.785708703055411, 2152: 8.478855883615356, 2153: 9.508475300796515, 2154: 8.815328120236568, 2155: 2.846109182075907, 2156: 6.155068582970708, 2157: 6.0427393979967885, 2158: 4.640940850340932, 2159: 6.19065952807341, 2160: 6.699072605434017, 2161: 4.0626003698908635, 2162: 8.026870759872299, 2163: 7.166669494649188, 2164: 5.584523724503095, 2165: 4.701180930718289, 2166: 7.057470202684196, 2167: 5.64564253955914, 2168: 5.715235831358336, 2169: 9.038471671550779, 2170: 5.584523724503095, 2171: 9.508475300796515, 2172: 6.869417971181256, 2173: 8.720017940432244, 2174: 8.633006563442613, 2175: 9.32615374400256, 2176: 9.508475300796515, 2177: 6.289599475928314, 2178: 9.172003064175302, 2179: 7.246712202322724, 2180: 9.32615374400256, 2181: 7.859816675209133, 2182: 9.32615374400256, 2183: 9.508475300796515, 2184: 9.32615374400256, 2185: 1.6855499176089257, 2186: 4.459902167359867, 2187: 8.552963855769079, 2188: 5.483123610061365, 2189: 6.250378762775033, 2190: 8.552963855769079, 2191: 9.172003064175302, 2192: 7.040375769324895, 2193: 8.345324490990834, 2194: 6.074488096311368, 2195: 6.6070537067137645, 2196: 9.32615374400256, 2197: 4.260399150685225, 2198: 8.345324490990834, 2199: 7.93985938288267, 2200: 7.023568651008515, 2201: 7.429033759116678, 2202: 9.172003064175302, 2203: 6.297631647625578, 2204: 5.870889141070129, 2205: 6.34722858876495, 2206: 6.6070537067137645, 2207: 8.478855883615356, 2208: 6.723464058558176, 2209: 6.068057205981078, 2210: 9.172003064175302, 2211: 7.93985938288267, 2212: 3.0068853750369353, 2213: 6.018046785406416, 2214: 5.082431780705859, 2215: 5.844913654666868, 2216: 6.036508848246152, 2217: 7.28927181674152, 2218: 5.834709484492627, 2219: 9.038471671550779, 2220: 6.564036321630074, 2221: 6.162086155629354, 2222: 4.78997642950142, 2223: 4.881543623026911, 2224: 4.444615245462961, 2225: 6.553565021762779, 2226: 7.652177310430888, 2227: 7.057470202684196, 2228: 6.748465360763594, 2229: 5.089634692999916, 2230: 9.172003064175302, 2231: 7.50699530058639, 2232: 7.822076347226286, 2233: 7.562565151741201, 2234: 8.22754145533445, 2235: 9.508475300796515, 2236: 8.026870759872299, 2237: 8.920688635894397, 2238: 6.080960610816986, 2239: 6.640576398752408, 2240: 9.32615374400256, 2241: 5.4480322902500955, 2242: 8.815328120236568, 2243: 9.32615374400256, 2244: 6.735886578556733, 2245: 9.038471671550779, 2246: 8.920688635894397, 2247: 8.073390775507193, 2248: 8.122180939676625, 2249: 6.883806708633355, 2250: 7.93985938288267, 2251: 8.720017940432244, 2252: 8.409863012128405, 2253: 9.32615374400256, 2254: 3.850387785402443, 2255: 7.166669494649188, 2256: 7.454351567100969, 2257: 4.7377906763308495, 2258: 8.173474234064175, 2259: 7.5915526886144535, 2260: 7.007039349057304, 2261: 9.508475300796515, 2262: 6.9132205938396485, 2263: 5.324899604846471, 2264: 7.246712202322724, 2265: 6.774107791376931, 2266: 6.928258471204189, 2267: 7.982418997301465, 2268: 7.429033759116678, 2269: 7.007039349057304, 2270: 9.172003064175302, 2271: 8.478855883615356, 2272: 7.982418997301465, 2273: 5.988014498307542, 2274: 8.920688635894397, 2275: 7.0925615224954655, 2276: 8.720017940432244, 2277: 7.333723579312354, 2278: 9.172003064175302, 2279: 9.172003064175302, 2280: 3.3388645683050586, 2281: 7.454351567100969, 2282: 5.814608305171539, 2283: 4.150004011428731, 2284: 6.869417971181256, 2285: 7.28927181674152, 2286: 6.813848120026445, 2287: 9.32615374400256, 2288: 6.297631647625578, 2289: 5.780375133529297, 2290: 5.092047239405301, 2291: 7.750617383244141, 2292: 9.172003064175302, 2293: 7.404341146526307, 2294: 7.057470202684196, 2295: 8.2846998691744, 2296: 6.869417971181256, 2297: 8.173474234064175, 2298: 3.6591505208496553, 2299: 6.543202234727232, 2300: 6.553565021762779, 2301: 5.719750511712862, 2302: 6.959030129870943, 2303: 5.146651373440152, 2304: 5.5306645548303655, 2305: 8.22754145533445, 2306: 6.9132205938396485, 2307: 6.898405508054508, 2308: 6.011967739330034, 2309: 7.186087580506289, 2310: 7.186087580506289, 2311: 6.898405508054508, 2312: 8.478855883615356, 2313: 6.711193965966362, 2314: 3.6760064851789904, 2315: 6.074488096311368, 2316: 7.040375769324895, 2317: 4.8281976423216175, 2318: 7.750617383244141, 2319: 8.2846998691744, 2320: 6.502792696389355, 2321: 9.508475300796515, 2322: 5.662592097872913, 2323: 5.468938975069409, 2324: 6.675261956740298, 2325: 5.870889141070129, 2326: 6.532945734560043, 2327: 9.172003064175302, 2328: 8.173474234064175, 2329: 8.478855883615356, 2330: 8.633006563442613, 2331: 3.343898135979888, 2332: 5.584523724503095, 2333: 6.242715890029463, 2334: 4.25934817843925, 2335: 6.454474119118548, 2336: 7.166669494649188, 2337: 6.8552333361893, 2338: 8.173474234064175, 2339: 6.687096414387302, 2340: 6.39941434193552, 2341: 5.291913105850164, 2342: 6.6292768434984755, 2343: 7.110580027998144, 2344: 6.313892168497358, 2345: 6.761204386541023, 2346: 7.785708703055411, 2347: 8.552963855769079, 2348: 3.0244509387294345, 2349: 5.504785106842545, 2350: 6.258100808868943, 2351: 5.604484467065633, 2352: 6.080960610816986, 2353: 6.381714764836119, 2354: 5.334088030900878, 2355: 7.859816675209133, 2356: 7.750617383244141, 2357: 5.259980058747155, 2358: 4.818963966374673, 2359: 6.0427393979967885, 2360: 5.451486525118183, 2361: 5.982114776180353, 2362: 9.32615374400256, 2363: 6.055318180203648, 2364: 9.508475300796515, 2365: 6.813848120026445, 2366: 8.920688635894397, 2367: 7.454351567100969, 2368: 9.32615374400256, 2369: 9.32615374400256, 2370: 5.002021087747581, 2371: 9.038471671550779, 2372: 8.478855883615356, 2373: 6.34722858876495, 2374: 9.172003064175302, 2375: 9.32615374400256, 2376: 5.824608388506123, 2377: 8.633006563442613, 2378: 7.480327053504229, 2379: 9.038471671550779, 2380: 7.750617383244141, 2381: 9.172003064175302, 2382: 9.038471671550779, 2383: 7.652177310430888, 2384: 9.508475300796515, 2385: 7.93985938288267, 2386: 4.647113709448013, 2387: 8.920688635894397, 2388: 9.172003064175302, 2389: 9.508475300796515, 2390: 9.038471671550779, 2391: 9.508475300796515, 2392: 8.920688635894397, 2393: 9.32615374400256, 2394: 8.552963855769079, 2395: 9.038471671550779, 2396: 4.761805552534724, 2397: 7.716715831568459, 2398: 6.898405508054508, 2399: 5.479558543896869, 2400: 8.633006563442613, 2401: 8.345324490990834, 2402: 7.356713097537052, 2403: 7.899037388362414, 2404: 7.023568651008515, 2405: 9.038471671550779, 2406: 8.633006563442613, 2407: 9.32615374400256, 2408: 3.025062185692231, 2409: 5.512111146934617, 2410: 4.1680567582298425, 2411: 4.724322459279984, 2412: 6.943525943334978, 2413: 6.723464058558176, 2414: 6.652005094576031, 2415: 8.920688635894397, 2416: 7.93985938288267, 2417: 5.248616300096841, 2418: 6.463952863073092, 2419: 8.173474234064175, 2420: 5.268588433283756, 2421: 5.185668025782604, 2422: 9.038471671550779, 2423: 7.356713097537052, 2424: 9.32615374400256, 2425: 3.2014703531083555, 2426: 7.50699530058639, 2427: 6.711193965966362, 2428: 5.283102476168009, 2429: 7.683926008745469, 2430: 8.478855883615356, 2431: 4.691424755772925, 2432: 9.508475300796515, 2433: 4.905307117479096, 2434: 5.430937856890795, 2435: 5.180377008148189, 2436: 7.023568651008515, 2437: 5.675495502708822, 2438: 5.5572315822150875, 2439: 7.429033759116678, 2440: 7.750617383244141, 2441: 1.8356243419418483, 2442: 4.32108949495576, 2443: 4.378576585873441, 2444: 3.7757814826458937, 2445: 4.373854026919268, 2446: 4.791763740075516, 2447: 3.913020703025942, 2448: 6.390525394518274, 2449: 5.1646698789428305, 2450: 3.509042584039356, 2451: 3.3952356967626116, 2452: 4.558297975737373, 2453: 7.480327053504229, 2454: 3.94548863610577, 2455: 4.556882547334043, 2456: 5.215279879829248, 2457: 4.73440657834661, 2458: 6.074488096311368, 2459: 8.026870759872299, 2460: 3.3794250907359693, 2461: 6.827453772082224, 2462: 6.445084378768708, 2463: 5.378120301051381, 2464: 6.281631306279137, 2465: 6.4174328474381985, 2466: 6.0427393979967885, 2467: 9.038471671550779, 2468: 8.073390775507193, 2469: 5.881471250400666, 2470: 6.242715890029463, 2471: 7.652177310430888, 2472: 4.952495358999196, 2473: 4.765283816911049, 2474: 7.683926008745469, 2475: 7.267765611520557, 2476: 8.633006563442613, 2477: 3.3846675667008195, 2478: 7.040375769324895, 2479: 7.716715831568459, 2480: 4.80436516695352, 2481: 7.333723579312354, 2482: 6.928258471204189, 2483: 4.628708281905298, 2484: 8.720017940432244, 2485: 6.869417971181256, 2486: 5.572735768751053, 2487: 7.5915526886144535, 2488: 5.468938975069409, 2489: 5.860417841202834, 2490: 6.800425099694305, 2491: 7.621405651764134, 2492: 2.516378873380627, 2493: 5.441159410962333, 2494: 6.169153322852447, 2495: 3.3380280981600925, 2496: 6.355739278432859, 2497: 6.663565916977107, 2498: 5.303782681405549, 2499: 7.652177310430888, 2500: 7.246712202322724, 2501: 5.620744987937413, 2502: 4.485911435834986, 2503: 5.865639785183985, 2504: 9.32615374400256, 2505: 5.472466315587377, 2506: 5.515794392350914, 2507: 6.1207009394664995, 2508: 5.4480322902500955, 2509: 5.10910002778802, 2510: 8.552963855769079, 2511: 8.22754145533445, 2512: 6.928258471204189, 2513: 7.621405651764134, 2514: 9.038471671550779, 2515: 8.815328120236568, 2516: 7.899037388362414, 2517: 8.720017940432244, 2518: 5.761326938558603, 2519: 3.9234763621302804, 2520: 7.074861945396065, 2521: 7.716715831568459, 2522: 4.887431765652133, 2523: 7.404341146526307, 2524: 7.750617383244141, 2525: 6.9747784868390825, 2526: 9.32615374400256, 2527: 7.380243594947246, 2528: 6.6292768434984755, 2529: 5.410802948481739, 2530: 8.026870759872299, 2531: 7.0925615224954655, 2532: 7.380243594947246, 2533: 7.429033759116678, 2534: 2.881492685965224, 2535: 5.799793219386399, 2536: 6.3387897201190855, 2537: 4.38094625522876, 2538: 5.553392805907921, 2539: 6.883806708633355, 2540: 5.738015859690155, 2541: 8.920688635894397, 2542: 5.378120301051381, 2543: 4.283804474416776, 2544: 5.291913105850164, 2545: 6.502792696389355, 2546: 9.508475300796515, 2547: 6.10727791913436, 2548: 6.281631306279137, 2549: 6.408383011918281, 2550: 5.850055054167287, 2551: 8.633006563442613, 2552: 2.3846413682222893, 2553: 5.245795423755199, 2554: 5.072907899194603, 2555: 4.222230515482748, 2556: 5.427553758906555, 2557: 3.699132330479821, 2558: 4.501848028097798, 2559: 7.333723579312354, 2560: 5.501142115564043, 2561: 5.259980058747155, 2562: 4.373854026919268, 2563: 5.770805682513147, 2564: 9.038471671550779, 2565: 5.493895707043277, 2566: 5.451486525118183, 2567: 7.110580027998144, 2568: 5.355861830450438, 2569: 8.22754145533445, 2570: 3.4217005738842077, 2571: 7.074861945396065, 2572: 6.711193965966362, 2573: 5.257126989764749, 2574: 7.5915526886144535, 2575: 7.93985938288267, 2576: 5.684191209676375, 2577: 9.32615374400256, 2578: 8.22754145533445, 2579: 5.74263480554645, 2580: 6.100633376415691, 2581: 5.407486195855745, 2582: 5.444589946059122, 2583: 5.015354618617046, 2584: 8.920688635894397, 2585: 7.205890207802469, 2586: 6.787179872944284, 2587: 7.040375769324895, 2588: 3.32473886604141, 2589: 6.134306591522279, 2590: 6.100633376415691, 2591: 4.295715822610124, 2592: 6.543202234727232, 2593: 6.155068582970708, 2594: 5.697378213958329, 2595: 8.409863012128405, 2596: 7.50699530058639, 2597: 6.652005094576031, 2598: 5.572735768751053, 2599: 6.663565916977107, 2600: 6.049009011010384, 2601: 6.024163012423853, 2602: 7.859816675209133, 2603: 6.265882949310998, 2604: 9.32615374400256, 2605: 3.0201826395663955, 2606: 5.715235831358336, 2607: 5.8552230243257295, 2608: 5.331015831863907, 2609: 6.675261956740298, 2610: 5.318820558770089, 2611: 4.973727579104969, 2612: 8.720017940432244, 2613: 7.333723579312354, 2614: 5.75662104752119, 2615: 4.372676863746253, 2616: 5.747275185102952, 2617: 9.508475300796515, 2618: 5.251445156297319, 2619: 7.040375769324895, 2620: 8.815328120236568, 2621: 6.8552333361893, 2622: 8.552963855769079, 2623: 4.5194041846161, 2624: 9.508475300796515, 2625: 7.5915526886144535, 2626: 4.954598409195974, 2627: 8.815328120236568, 2628: 9.038471671550779, 2629: 7.534394274774505, 2630: 6.6070537067137645, 2631: 8.920688635894397, 2632: 8.122180939676625, 2633: 8.920688635894397, 2634: 7.750617383244141, 2635: 3.2106296038042674, 2636: 7.333723579312354, 2637: 6.898405508054508, 2638: 5.019838931064375, 2639: 6.596124636181575, 2640: 7.480327053504229, 2641: 4.175756507531146, 2642: 9.172003064175302, 2643: 7.683926008745469, 2644: 6.532945734560043, 2645: 4.73103389386797, 2646: 7.683926008745469, 2647: 6.127480626451879, 2648: 6.4929403999463435, 2649: 8.720017940432244, 2650: 7.267765611520557, 2651: 9.508475300796515, 2652: 7.750617383244141, 2653: 9.32615374400256, 2654: 5.461921402410763, 2655: 7.404341146526307, 2656: 9.038471671550779, 2657: 7.128929166666341, 2658: 9.172003064175302, 2659: 8.026870759872299, 2660: 8.173474234064175, 2661: 7.534394274774505, 2662: 9.32615374400256, 2663: 8.720017940432244, 2664: 9.32615374400256, 2665: 9.508475300796515, 2666: 8.920688635894397, 2667: 8.552963855769079, 2668: 3.331361406801903, 2669: 5.600460316765908, 2670: 4.587035585504729, 2671: 4.7377906763308495, 2672: 7.652177310430888, 2673: 7.750617383244141, 2674: 6.84124709421456, 2675: 8.920688635894397, 2676: 8.920688635894397, 2677: 5.612581677298253, 2678: 6.553565021762779, 2679: 8.720017940432244, 2680: 6.141179470810041, 2681: 5.790037044441034, 2682: 9.32615374400256, 2683: 7.023568651008515, 2684: 2.699215268563477, 2685: 8.122180939676625, 2686: 6.169153322852447, 2687: 6.162086155629354, 2688: 8.2846998691744, 2689: 4.680161563494213, 2690: 8.720017940432244, 2691: 3.1461370903499875, 2692: 5.93052740738986, 2693: 5.0587900176488185, 2694: 7.93985938288267, 2695: 6.372981084867365, 2696: 5.824608388506123, 2697: 8.22754145533445, 2698: 2.9320057317482906, 2699: 5.612581677298253, 2700: 6.281631306279137, 2701: 5.072907899194603, 2702: 5.7062671613755755, 2703: 6.813848120026445, 2704: 4.793554250849304, 2705: 7.899037388362414, 2706: 7.205890207802469, 2707: 5.245795423755199, 2708: 4.761805552534724, 2709: 6.242715890029463, 2710: 9.32615374400256, 2711: 5.427553758906555, 2712: 5.775578961265804, 2713: 6.364323022124251, 2714: 5.761326938558603, 2715: 7.128929166666341, 2716: 9.32615374400256, 2717: 3.9439548934738213, 2718: 8.026870759872299, 2719: 7.246712202322724, 2720: 6.473522314089243, 2721: 5.982114776180353, 2722: 6.543202234727232, 2723: 6.699072605434017, 2724: 8.345324490990834, 2725: 6.800425099694305, 2726: 6.827453772082224, 2727: 8.720017940432244, 2728: 5.600460316765908, 2729: 5.268588433283756, 2730: 9.038471671550779, 2731: 7.982418997301465, 2732: 3.3824798607309265, 2733: 7.023568651008515, 2734: 7.404341146526307, 2735: 5.251445156297319, 2736: 7.454351567100969, 2737: 6.463952863073092, 2738: 4.363309113742653, 2739: 8.409863012128405, 2740: 5.359011439353334, 2741: 5.662592097872913, 2742: 7.562565151741201, 2743: 6.532945734560043, 2744: 6.473522314089243, 2745: 7.356713097537052, 2746: 7.534394274774505, 2747: 3.0050857344792408, 2748: 5.886804596376028, 2749: 7.057470202684196, 2750: 3.7706135124874507, 2751: 6.943525943334978, 2752: 7.356713097537052, 2753: 5.919416181964789, 2754: 9.172003064175302, 2755: 7.5915526886144535, 2756: 6.3387897201190855, 2757: 5.346472090100599, 2758: 6.699072605434017, 2759: 6.19065952807341, 2760: 5.719750511712862, 2761: 6.005925424874071, 2762: 6.10727791913436, 2763: 5.865639785183985, 2764: 8.633006563442613, 2765: 9.32615374400256, 2766: 6.141179470810041, 2767: 4.73440657834661, 2768: 9.172003064175302, 2769: 9.172003064175302, 2770: 5.958857914016086, 2771: 9.038471671550779, 2772: 9.172003064175302, 2773: 8.409863012128405, 2774: 8.920688635894397, 2775: 8.22754145533445, 2776: 5.38781343025704, 2777: 8.815328120236568, 2778: 8.2846998691744, 2779: 9.038471671550779, 2780: 2.9905086505375342, 2781: 5.534416904448916, 2782: 6.640576398752408, 2783: 5.199019358957469, 2784: 6.390525394518274, 2785: 6.723464058558176, 2786: 5.941763480656785, 2787: 7.716715831568459, 2788: 5.028868337783769, 2789: 4.2741632642243905, 2790: 5.087227952969352, 2791: 6.483184225000979, 2792: 6.08747529183818, 2793: 6.155068582970708, 2794: 6.19793228740249, 2795: 6.330421470448569, 2796: 2.5707729454464254, 2797: 5.54575918105285, 2798: 4.9462126158197, 2799: 4.49650756146648, 2800: 5.437740604213547, 2801: 4.372676863746253, 2802: 4.811637926282599, 2803: 7.621405651764134, 2804: 5.430937856890795, 2805: 5.037980018135025, 2806: 4.576883214040712, 2807: 6.049009011010384, 2808: 8.633006563442613, 2809: 5.497512347513465, 2810: 5.761326938558603, 2811: 7.3112507234602955, 2812: 5.588484125719192, 2813: 9.32615374400256, 2814: 3.115553666977907, 2815: 5.592460274098831, 2816: 6.39941434193552, 2817: 5.223510378965764, 2818: 6.0427393979967885, 2819: 6.9747784868390825, 2820: 5.4208197267252105, 2821: 8.815328120236568, 2822: 7.683926008745469, 2823: 5.497512347513465, 2824: 5.175113838103914, 2825: 5.483123610061365, 2826: 9.172003064175302, 2827: 5.794903234092207, 2828: 5.458430997470994, 2829: 8.478855883615356, 2830: 5.93612966293853, 2831: 7.356713097537052, 2832: 7.50699530058639, 2833: 2.668356670530189, 2834: 5.116498335269465, 2835: 5.701812811026195, 2836: 3.655124055818167, 2837: 5.715235831358336, 2838: 5.649853072095484, 2839: 5.315794837853552, 2840: 8.026870759872299, 2841: 7.246712202322724, 2842: 5.596452295368368, 2843: 4.515325321041278, 2844: 5.237380226829915, 2845: 9.172003064175302, 2846: 5.51949125423224, 2847: 5.881471250400666, 2848: 6.699072605434017, 2849: 6.162086155629354, 2850: 9.32615374400256, 2851: 3.970353942041161, 2852: 6.355739278432859, 2853: 6.364323022124251, 2854: 6.959030129870943, 2855: 7.621405651764134, 2856: 6.928258471204189, 2857: 6.8552333361893, 2858: 9.508475300796515, 2859: 8.073390775507193, 2860: 6.735886578556733, 2861: 6.005925424874071, 2862: 5.588484125719192, 2863: 5.600460316765908, 2864: 6.883806708633355, 2865: 8.073390775507193, 2866: 9.508475300796515, 2867: 6.030316877998231, 2868: 9.172003064175302, 2869: 6.454474119118548, 2870: 9.508475300796515, 2871: 8.720017940432244, 2872: 8.720017940432244, 2873: 3.9555157158748973, 2874: 8.22754145533445, 2875: 7.380243594947246, 2876: 5.620744987937413, 2877: 7.652177310430888, 2878: 8.173474234064175, 2879: 5.218015859648124, 2880: 8.720017940432244, 2881: 6.596124636181575, 2882: 5.286030735947098, 2883: 8.478855883615356, 2884: 6.9132205938396485, 2885: 7.226092915119988, 2886: 9.32615374400256, 2887: 8.478855883615356, 2888: 7.50699530058639, 2889: 9.172003064175302, 2890: 8.920688635894397, 2891: 5.371710022690462, 2892: 8.815328120236568, 2893: 8.920688635894397, 2894: 7.982418997301465, 2895: 8.478855883615356, 2896: 8.920688635894397, 2897: 7.128929166666341, 2898: 9.172003064175302, 2899: 8.633006563442613, 2900: 7.534394274774505, 2901: 9.508475300796515, 2902: 8.720017940432244, 2903: 7.5915526886144535, 2904: 8.2846998691744, 2905: 6.8552333361893, 2906: 2.253731843465189, 2907: 6.800425099694305, 2908: 8.633006563442613, 2909: 8.22754145533445, 2910: 8.22754145533445, 2911: 8.815328120236568, 2912: 5.80964551582941, 2913: 9.508475300796515, 2914: 6.463952863073092, 2915: 8.122180939676625, 2916: 8.633006563442613, 2917: 9.172003064175302, 2918: 8.815328120236568, 2919: 8.122180939676625, 2920: 9.038471671550779, 2921: 2.4507494952380826, 2922: 5.242982482378585, 2923: 6.024163012423853, 2924: 5.0108903254883606, 2925: 5.561085151531077, 2926: 5.881471250400666, 2927: 4.606167883585887, 2928: 7.652177310430888, 2929: 7.0925615224954655, 2930: 5.362170999643703, 2931: 4.19133618000789, 2932: 6.273726126772024, 2933: 9.508475300796515, 2934: 3.373776585602625, 2935: 5.331015831863907, 2936: 7.859816675209133, 2937: 5.654081408205005, 2938: 8.720017940432244, 2939: 8.920688635894397, 2940: 8.2846998691744, 2941: 9.508475300796515, 2942: 6.898405508054508, 2943: 8.073390775507193, 2944: 8.173474234064175, 2945: 9.172003064175302, 2946: 9.038471671550779, 2947: 9.508475300796515, 2948: 6.943525943334978, 2949: 7.785708703055411, 2950: 9.32615374400256, 2951: 9.32615374400256, 2952: 8.815328120236568, 2953: 7.982418997301465, 2954: 8.815328120236568, 2955: 9.172003064175302, 2956: 5.588484125719192, 2957: 8.552963855769079, 2958: 9.32615374400256, 2959: 6.9747784868390825, 2960: 9.508475300796515, 2961: 9.32615374400256, 2962: 9.508475300796515, 2963: 7.50699530058639, 2964: 8.345324490990834, 2965: 8.633006563442613, 2966: 7.3112507234602955, 2967: 8.026870759872299, 2968: 9.038471671550779, 2969: 4.571127802470091, 2970: 8.122180939676625, 2971: 7.652177310430888, 2972: 7.0925615224954655, 2973: 9.038471671550779, 2974: 5.065824044306198, 2975: 7.166669494649188, 2976: 8.815328120236568, 2977: 7.899037388362414, 2978: 7.716715831568459, 2979: 9.508475300796515, 2980: 8.345324490990834, 2981: 9.172003064175302, 2982: 8.22754145533445, 2983: 7.110580027998144, 2984: 9.508475300796515, 2985: 9.32615374400256, 2986: 8.409863012128405, 2987: 8.920688635894397, 2988: 5.63311627973996, 2989: 8.122180939676625, 2990: 6.483184225000979, 2991: 9.508475300796515, 2992: 7.562565151741201, 2993: 8.552963855769079, 2994: 9.32615374400256, 2995: 8.122180939676625, 2996: 9.32615374400256, 2997: 8.633006563442613, 2998: 9.508475300796515, 2999: 6.959030129870943, 3000: 9.508475300796515, 3001: 9.32615374400256, 3002: 8.2846998691744, 3003: 9.32615374400256, 3004: 8.409863012128405, 3005: 7.3112507234602955, 3006: 7.716715831568459, 3007: 9.508475300796515, 3008: 9.508475300796515, 3009: 7.380243594947246, 3010: 8.815328120236568, 3011: 8.815328120236568, 3012: 1.5244215107428523, 3013: 4.565405326196025, 3014: 7.429033759116678, 3015: 5.608524876602638, 3016: 6.390525394518274, 3017: 9.038471671550779, 3018: 9.038471671550779, 3019: 8.633006563442613, 3020: 8.815328120236568, 3021: 7.716715831568459, 3022: 7.716715831568459, 3023: 6.869417971181256, 3024: 6.297631647625578, 3025: 4.481966657543969, 3026: 9.32615374400256, 3027: 8.22754145533445, 3028: 7.480327053504229, 3029: 9.32615374400256, 3030: 5.199019358957469, 3031: 6.898405508054508, 3032: 7.226092915119988, 3033: 7.023568651008515, 3034: 9.172003064175302, 3035: 7.3112507234602955, 3036: 6.959030129870943, 3037: 8.633006563442613, 3038: 8.073390775507193, 3039: 2.8605275575001787, 3040: 6.227564085008861, 3041: 6.543202234727232, 3042: 4.276297736753023, 3043: 7.166669494649188, 3044: 6.258100808868943, 3045: 5.870889141070129, 3046: 8.22754145533445, 3047: 6.454474119118548, 3048: 5.0108903254883606, 3049: 4.760070946722515, 3050: 6.675261956740298, 3051: 4.008851077543443, 3052: 7.023568651008515, 3053: 6.827453772082224, 3054: 6.532945734560043, 3055: 8.633006563442613, 3056: 4.504528994851055, 3057: 8.026870759872299, 3058: 8.22754145533445, 3059: 5.902977455621629, 3060: 7.822076347226286, 3061: 7.982418997301465, 3062: 7.205890207802469, 3063: 9.32615374400256, 3064: 7.110580027998144, 3065: 7.50699530058639, 3066: 9.038471671550779, 3067: 6.281631306279137, 3068: 6.258100808868943, 3069: 9.172003064175302, 3070: 7.93985938288267, 3071: 4.956705891535538, 3072: 8.173474234064175, 3073: 8.720017940432244, 3074: 6.787179872944284, 3075: 8.345324490990834, 3076: 7.040375769324895, 3077: 7.128929166666341, 3078: 9.172003064175302, 3079: 7.982418997301465, 3080: 6.61810354290035, 3081: 9.32615374400256, 3082: 7.166669494649188, 3083: 7.982418997301465, 3084: 9.172003064175302, 3085: 8.552963855769079, 3086: 2.2771882964688994, 3087: 5.151766474106923, 3088: 5.384571936332869, 3089: 3.1253065608304054, 3090: 5.993949233827356, 3091: 5.719750511712862, 3092: 4.208159931585804, 3093: 7.429033759116678, 3094: 6.532945734560043, 3095: 4.8545149506389915, 3096: 4.813464410808633, 3097: 5.493895707043277, 3098: 9.172003064175302, 3099: 5.257126989764749, 3100: 4.6706073506894015, 3101: 7.380243594947246, 3102: 5.162075843765784, 3103: 9.508475300796515, 3104: 6.663565916977107, 3105: 9.038471671550779, 3106: 8.815328120236568, 3107: 7.333723579312354, 3108: 5.483123610061365, 3109: 9.172003064175302, 3110: 9.172003064175302, 3111: 6.074488096311368, 3112: 9.32615374400256, 3113: 9.508475300796515, 3114: 7.110580027998144, 3115: 9.32615374400256, 3116: 8.552963855769079, 3117: 3.957844005634488, 3118: 8.122180939676625, 3119: 8.2846998691744, 3120: 6.543202234727232, 3121: 7.562565151741201, 3122: 8.633006563442613, 3123: 8.2846998691744, 3124: 5.465424032961964, 3125: 4.683366694443162, 3126: 6.84124709421456, 3127: 9.172003064175302, 3128: 7.683926008745469, 3129: 8.345324490990834, 3130: 7.822076347226286, 3131: 7.822076347226286, 3132: 2.9706249545239913, 3133: 5.641449661299104, 3134: 6.074488096311368, 3135: 4.622647657293607, 3136: 5.988014498307542, 3137: 5.101756053532261, 3138: 5.116498335269465, 3139: 8.22754145533445, 3140: 6.564036321630074, 3141: 5.964621618732836, 3142: 4.595820415060462, 3143: 6.322122667633874, 3144: 9.172003064175302, 3145: 6.19793228740249, 3146: 6.113966907285156, 3147: 8.345324490990834, 3148: 5.970418736417162, 3149: 5.286030735947098, 3150: 9.038471671550779, 3151: 7.899037388362414, 3152: 6.711193965966362, 3153: 8.173474234064175, 3154: 7.267765611520557, 3155: 8.478855883615356, 3156: 8.2846998691744, 3157: 7.205890207802469, 3158: 7.205890207802469, 3159: 8.815328120236568, 3160: 8.552963855769079, 3161: 8.720017940432244, 3162: 3.7234201060115772, 3163: 7.356713097537052, 3164: 7.356713097537052, 3165: 5.381340915751423, 3166: 7.3112507234602955, 3167: 7.380243594947246, 3168: 6.162086155629354, 3169: 5.337169697438286, 3170: 5.958857914016086, 3171: 5.612581677298253, 3172: 7.186087580506289, 3173: 6.372981084867365, 3174: 7.040375769324895, 3175: 8.409863012128405, 3176: 8.026870759872299, 3177: 4.060015275818758, 3178: 7.480327053504229, 3179: 6.84124709421456, 3180: 7.652177310430888, 3181: 8.122180939676625, 3182: 7.226092915119988, 3183: 7.267765611520557, 3184: 7.899037388362414, 3185: 4.919434496738306, 3186: 6.6292768434984755, 3187: 6.258100808868943, 3188: 6.364323022124251, 3189: 8.173474234064175, 3190: 9.508475300796515, 3191: 7.785708703055411, 3192: 6.699072605434017, 3193: 7.166669494649188, 3194: 8.920688635894397, 3195: 4.642480496526526, 3196: 8.2846998691744, 3197: 8.22754145533445, 3198: 6.512743027242523, 3199: 8.22754145533445, 3200: 8.633006563442613, 3201: 5.523201833628776, 3202: 7.859816675209133, 3203: 6.675261956740298, 3204: 8.720017940432244, 3205: 7.50699530058639, 3206: 7.683926008745469, 3207: 7.007039349057304, 3208: 8.478855883615356, 3209: 7.429033759116678, 3210: 9.172003064175302, 3211: 9.32615374400256, 3212: 9.508475300796515, 3213: 3.720351677706563, 3214: 6.148099913654614, 3215: 9.508475300796515, 3216: 6.735886578556733, 3217: 8.22754145533445, 3218: 9.038471671550779, 3219: 8.815328120236568, 3220: 8.720017940432244, 3221: 5.662592097872913, 3222: 9.32615374400256, 3223: 6.9132205938396485, 3224: 8.720017940432244, 3225: 9.32615374400256, 3226: 7.429033759116678, 3227: 7.226092915119988, 3228: 9.038471671550779, 3229: 7.454351567100969, 3230: 5.715235831358336, 3231: 7.822076347226286, 3232: 8.815328120236568, 3233: 8.815328120236568, 3234: 8.815328120236568, 3235: 8.720017940432244, 3236: 8.633006563442613, 3237: 8.633006563442613, 3238: 7.50699530058639, 3239: 8.345324490990834, 3240: 7.5915526886144535, 3241: 8.552963855769079, 3242: 8.552963855769079, 3243: 6.943525943334978, 3244: 8.920688635894397, 3245: 8.720017940432244, 3246: 8.478855883615356, 3247: 8.552963855769079, 3248: 7.404341146526307, 3249: 8.633006563442613, 3250: 9.508475300796515, 3251: 9.038471671550779, 3252: 6.330421470448569, 3253: 9.508475300796515, 3254: 6.990778828185523, 3255: 8.920688635894397, 3256: 9.038471671550779, 3257: 8.815328120236568, 3258: 9.32615374400256, 3259: 9.508475300796515, 3260: 8.409863012128405, 3261: 9.32615374400256, 3262: 8.345324490990834, 3263: 9.038471671550779, 3264: 7.040375769324895, 3265: 9.32615374400256, 3266: 9.038471671550779, 3267: 8.920688635894397, 3268: 8.720017940432244, 3269: 9.172003064175302, 3270: 8.920688635894397, 3271: 5.641449661299104, 3272: 9.32615374400256, 3273: 8.345324490990834, 3274: 7.28927181674152, 3275: 6.748465360763594, 3276: 7.982418997301465, 3277: 8.920688635894397, 3278: 8.815328120236568, 3279: 8.552963855769079, 3280: 8.920688635894397, 3281: 8.920688635894397, 3282: 5.785194419965246, 3283: 6.426565331001472, 3284: 7.28927181674152, 3285: 8.478855883615356, 3286: 8.073390775507193, 3287: 6.390525394518274, 3288: 9.32615374400256, 3289: 7.899037388362414, 3290: 8.026870759872299, 3291: 9.508475300796515, 3292: 8.2846998691744, 3293: 8.920688635894397, 3294: 9.32615374400256, 3295: 6.6292768434984755, 3296: 9.172003064175302, 3297: 9.508475300796515, 3298: 7.716715831568459, 3299: 9.172003064175302, 3300: 9.172003064175302, 3301: 8.2846998691744, 3302: 8.478855883615356, 3303: 9.038471671550779, 3304: 6.898405508054508, 3305: 8.633006563442613, 3306: 7.480327053504229, 3307: 9.038471671550779, 3308: 6.883806708633355, 3309: 9.32615374400256, 3310: 9.32615374400256, 3311: 9.038471671550779, 3312: 8.478855883615356, 3313: 8.720017940432244, 3314: 9.32615374400256, 3315: 9.508475300796515, 3316: 7.128929166666341, 3317: 3.9070947597583947, 3318: 6.330421470448569, 3319: 6.943525943334978, 3320: 8.409863012128405, 3321: 9.508475300796515, 3322: 8.920688635894397, 3323: 8.409863012128405, 3324: 7.267765611520557, 3325: 9.172003064175302, 3326: 8.815328120236568, 3327: 8.633006563442613, 3328: 9.508475300796515, 3329: 5.209830275061684, 3330: 7.186087580506289, 3331: 8.720017940432244, 3332: 8.22754145533445, 3333: 8.633006563442613, 3334: 8.920688635894397, 3335: 7.28927181674152, 3336: 9.038471671550779, 3337: 7.652177310430888, 3338: 7.205890207802469, 3339: 8.633006563442613, 3340: 7.0925615224954655, 3341: 8.22754145533445, 3342: 8.720017940432244, 3343: 9.038471671550779, 3344: 9.508475300796515, 3345: 7.454351567100969, 3346: 9.32615374400256, 3347: 9.172003064175302, 3348: 9.038471671550779, 3349: 9.172003064175302, 3350: 7.480327053504229, 3351: 8.720017940432244, 3352: 9.508475300796515, 3353: 9.172003064175302, 3354: 6.205258327494563, 3355: 6.675261956740298, 3356: 9.32615374400256, 3357: 8.552963855769079, 3358: 9.172003064175302, 3359: 9.32615374400256, 3360: 9.508475300796515, 3361: 8.552963855769079, 3362: 9.172003064175302, 3363: 7.982418997301465, 3364: 9.172003064175302, 3365: 6.8552333361893, 3366: 8.409863012128405, 3367: 9.32615374400256, 3368: 8.409863012128405, 3369: 8.345324490990834, 3370: 9.508475300796515, 3371: 5.728841483414114, 3372: 8.409863012128405, 3373: 8.720017940432244, 3374: 7.205890207802469, 3375: 9.172003064175302, 3376: 7.186087580506289, 3377: 8.122180939676625, 3378: 8.720017940432244, 3379: 8.345324490990834, 3380: 9.172003064175302, 3381: 9.508475300796515, 3382: 9.172003064175302, 3383: 8.920688635894397, 3384: 7.3112507234602955, 3385: 9.32615374400256, 3386: 9.32615374400256, 3387: 9.038471671550779, 3388: 8.633006563442613, 3389: 6.959030129870943, 3390: 7.93985938288267, 3391: 9.038471671550779, 3392: 9.508475300796515, 3393: 9.172003064175302, 3394: 6.869417971181256, 3395: 9.508475300796515, 3396: 9.508475300796515, 3397: 9.038471671550779, 3398: 9.172003064175302, 3399: 8.633006563442613, 3400: 8.720017940432244, 3401: 8.552963855769079, 3402: 8.720017940432244, 3403: 7.166669494649188, 3404: 8.720017940432244, 3405: 8.633006563442613, 3406: 9.508475300796515, 3407: 8.920688635894397, 3408: 6.100633376415691, 3409: 8.122180939676625, 3410: 9.038471671550779, 3411: 7.93985938288267, 3412: 9.508475300796515, 3413: 8.633006563442613, 3414: 8.815328120236568, 3415: 8.22754145533445, 3416: 9.038471671550779, 3417: 9.508475300796515, 3418: 9.172003064175302, 3419: 8.633006563442613}\n"
     ]
    }
   ],
   "source": [
    "print(idf_dict)"
   ]
  },
  {
   "cell_type": "code",
   "execution_count": 13,
   "metadata": {},
   "outputs": [],
   "source": [
    "#nltk.download('averaged_perceptron_tagger')\n",
    "#Get POS tags for tweets and save as a string\n",
    "tweet_tags = []\n",
    "for t in tweets:\n",
    "    tokens = basic_tokenize(preprocess(t))\n",
    "    tags = nltk.pos_tag(tokens)\n",
    "    tag_list = [x[1] for x in tags]\n",
    "    tag_str = \" \".join(tag_list)\n",
    "    tweet_tags.append(tag_str)"
   ]
  },
  {
   "cell_type": "code",
   "execution_count": 14,
   "metadata": {},
   "outputs": [
    {
     "name": "stderr",
     "output_type": "stream",
     "text": [
      "IOPub data rate exceeded.\n",
      "The notebook server will temporarily stop sending output\n",
      "to the client in order to avoid crashing it.\n",
      "To change this limit, set the config variable\n",
      "`--NotebookApp.iopub_data_rate_limit`.\n",
      "\n",
      "Current values:\n",
      "NotebookApp.iopub_data_rate_limit=1000000.0 (bytes/sec)\n",
      "NotebookApp.rate_limit_window=3.0 (secs)\n",
      "\n"
     ]
    }
   ],
   "source": [
    "print(tweet_tags)"
   ]
  },
  {
   "cell_type": "code",
   "execution_count": 15,
   "metadata": {},
   "outputs": [],
   "source": [
    "#We can use the TFIDF vectorizer to get a token matrix for the POS tags\n",
    "pos_vectorizer = TfidfVectorizer(\n",
    "    tokenizer=None,\n",
    "    lowercase=False,\n",
    "    preprocessor=None,\n",
    "    ngram_range=(1, 3),\n",
    "    stop_words=None,\n",
    "    use_idf=False,\n",
    "    smooth_idf=False,\n",
    "    norm=None,\n",
    "    decode_error='replace',\n",
    "    max_features=5000,\n",
    "    min_df=5,\n",
    "    max_df=0.75,\n",
    "    )"
   ]
  },
  {
   "cell_type": "code",
   "execution_count": 16,
   "metadata": {},
   "outputs": [],
   "source": [
    "#Construct POS TF matrix and get vocab dict\n",
    "pos = pos_vectorizer.fit_transform(pd.Series(tweet_tags)).toarray()\n",
    "pos_vocab = {v:i for i, v in enumerate(pos_vectorizer.get_feature_names())}"
   ]
  },
  {
   "cell_type": "code",
   "execution_count": 17,
   "metadata": {},
   "outputs": [
    {
     "name": "stdout",
     "output_type": "stream",
     "text": [
      "{'CC': 0, 'CC DT': 1, 'CC DT JJ': 2, 'CC DT NN': 3, 'CC FW': 4, 'CC IN': 5, 'CC JJ': 6, 'CC JJ IN': 7, 'CC JJ JJ': 8, 'CC JJ NN': 9, 'CC NN': 10, 'CC NN IN': 11, 'CC NN NN': 12, 'CC NN VBP': 13, 'CC VBP': 14, 'CC VBZ': 15, 'CC VBZ DT': 16, 'CD': 17, 'CD NN': 18, 'DT CC': 19, 'DT CC JJ': 20, 'DT DT': 21, 'DT DT DT': 22, 'DT DT JJ': 23, 'DT DT NN': 24, 'DT FW': 25, 'DT FW DT': 26, 'DT JJ': 27, 'DT JJ IN': 28, 'DT JJ JJ': 29, 'DT JJ NN': 30, 'DT JJ NNP': 31, 'DT JJ VBP': 32, 'DT NN CC': 33, 'DT NN DT': 34, 'DT NN FW': 35, 'DT NN IN': 36, 'DT NN JJ': 37, 'DT NN MD': 38, 'DT NN NNP': 39, 'DT NN UH': 40, 'DT NN VB': 41, 'DT NN VBD': 42, 'DT NN VBP': 43, 'DT NN VBZ': 44, 'DT NN WP': 45, 'DT NN WRB': 46, 'DT VB': 47, 'DT VB DT': 48, 'DT VBZ': 49, 'DT VBZ DT': 50, 'EX': 51, 'EX VB': 52, 'EX VB DT': 53, 'FW': 54, 'FW CC': 55, 'FW CC FW': 56, 'FW CC JJ': 57, 'FW DT': 58, 'FW DT DT': 59, 'FW DT JJ': 60, 'FW DT NN': 61, 'FW FW': 62, 'FW FW DT': 63, 'FW FW FW': 64, 'FW FW IN': 65, 'FW FW JJ': 66, 'FW FW NN': 67, 'FW FW VB': 68, 'FW FW VBP': 69, 'FW IN': 70, 'FW IN NN': 71, 'FW JJ': 72, 'FW JJ FW': 73, 'FW JJ JJ': 74, 'FW JJ NN': 75, 'FW NN': 76, 'FW NN DT': 77, 'FW NN FW': 78, 'FW NN IN': 79, 'FW NN JJ': 80, 'FW NN NN': 81, 'FW NN VBD': 82, 'FW NN VBP': 83, 'FW NN VBZ': 84, 'FW NNP': 85, 'FW NNP VBP': 86, 'FW VB': 87, 'FW VB DT': 88, 'FW VBP': 89, 'FW VBP DT': 90, 'FW VBP JJ': 91, 'FW VBP VB': 92, 'FW VBZ': 93, 'FW VBZ DT': 94, 'IN': 95, 'IN DT': 96, 'IN DT JJ': 97, 'IN DT NN': 98, 'IN FW': 99, 'IN FW FW': 100, 'IN FW NN': 101, 'IN FW VB': 102, 'IN JJ': 103, 'IN JJ FW': 104, 'IN JJ JJ': 105, 'IN JJ NN': 106, 'IN JJ NNS': 107, 'IN JJ VBP': 108, 'IN NN': 109, 'IN NN IN': 110, 'IN NN JJ': 111, 'IN NN NN': 112, 'IN NN VBP': 113, 'IN NNP': 114, 'IN NNP NN': 115, 'IN NNS': 116, 'IN NNS NNS': 117, 'IN NNS VBP': 118, 'JJ FW': 119, 'JJ FW DT': 120, 'JJ FW FW': 121, 'JJ FW NN': 122, 'JJ IN': 123, 'JJ IN DT': 124, 'JJ IN JJ': 125, 'JJ IN NN': 126, 'JJ JJ': 127, 'JJ JJ FW': 128, 'JJ JJ IN': 129, 'JJ JJ JJ': 130, 'JJ JJ NN': 131, 'JJ JJ VBP': 132, 'JJ MD': 133, 'JJ MD VB': 134, 'JJ NN CC': 135, 'JJ NN DT': 136, 'JJ NN FW': 137, 'JJ NN IN': 138, 'JJ NN JJ': 139, 'JJ NN MD': 140, 'JJ NN NNP': 141, 'JJ NN NNS': 142, 'JJ NN VB': 143, 'JJ NN VBD': 144, 'JJ NN VBP': 145, 'JJ NN VBZ': 146, 'JJ NN WP': 147, 'JJ NNP': 148, 'JJ NNP NN': 149, 'JJ NNS': 150, 'JJ NNS JJ': 151, 'JJ NNS VBP': 152, 'JJ VB': 153, 'JJ VB DT': 154, 'JJ VBD': 155, 'JJ VBD DT': 156, 'JJ VBP': 157, 'JJ VBP DT': 158, 'JJ VBP FW': 159, 'JJ VBP JJ': 160, 'JJ VBP NN': 161, 'JJ VBP NNS': 162, 'JJ VBP PDT': 163, 'JJ VBP VB': 164, 'JJ VBP VBP': 165, 'JJ VBZ': 166, 'JJ VBZ DT': 167, 'JJ WRB': 168, 'JJ WRB DT': 169, 'MD': 170, 'MD VB': 171, 'MD VB DT': 172, 'MD VB IN': 173, 'MD VB JJ': 174, 'MD VB NN': 175, 'MD VB RB': 176, 'MD VB RP': 177, 'MD VB VB': 178, 'NN CC': 179, 'NN CC DT': 180, 'NN CC IN': 181, 'NN CC JJ': 182, 'NN CC NN': 183, 'NN CC VBZ': 184, 'NN CD': 185, 'NN CD NN': 186, 'NN DT': 187, 'NN DT DT': 188, 'NN DT FW': 189, 'NN DT JJ': 190, 'NN DT NN': 191, 'NN DT VB': 192, 'NN DT VBZ': 193, 'NN EX': 194, 'NN EX VB': 195, 'NN FW': 196, 'NN FW CC': 197, 'NN FW DT': 198, 'NN FW FW': 199, 'NN FW JJ': 200, 'NN FW NN': 201, 'NN FW NNP': 202, 'NN FW VBZ': 203, 'NN IN': 204, 'NN IN DT': 205, 'NN IN FW': 206, 'NN IN JJ': 207, 'NN IN NN': 208, 'NN IN NNP': 209, 'NN IN NNS': 210, 'NN JJ FW': 211, 'NN JJ IN': 212, 'NN JJ JJ': 213, 'NN JJ NNP': 214, 'NN JJ VBD': 215, 'NN JJ VBP': 216, 'NN JJ VBZ': 217, 'NN MD': 218, 'NN MD VB': 219, 'NN NN CC': 220, 'NN NN CD': 221, 'NN NN DT': 222, 'NN NN EX': 223, 'NN NN FW': 224, 'NN NN IN': 225, 'NN NN NNP': 226, 'NN NN NNS': 227, 'NN NN PRP': 228, 'NN NN RB': 229, 'NN NN SYM': 230, 'NN NN UH': 231, 'NN NN VB': 232, 'NN NN VBD': 233, 'NN NN VBZ': 234, 'NN NN WP': 235, 'NN NN WRB': 236, 'NN NNP': 237, 'NN NNP CC': 238, 'NN NNP IN': 239, 'NN NNP JJ': 240, 'NN NNP NN': 241, 'NN NNP NNP': 242, 'NN NNP VBZ': 243, 'NN NNS': 244, 'NN NNS JJ': 245, 'NN NNS VBP': 246, 'NN PDT': 247, 'NN PDT DT': 248, 'NN PRP': 249, 'NN PRP DT': 250, 'NN PRP VBP': 251, 'NN RB': 252, 'NN RB JJ': 253, 'NN SYM': 254, 'NN SYM JJ': 255, 'NN SYM NN': 256, 'NN SYM VBZ': 257, 'NN UH': 258, 'NN UH JJ': 259, 'NN UH NN': 260, 'NN UH VBZ': 261, 'NN VB': 262, 'NN VB DT': 263, 'NN VB FW': 264, 'NN VB IN': 265, 'NN VB JJ': 266, 'NN VB NN': 267, 'NN VB PDT': 268, 'NN VB VBP': 269, 'NN VB VBZ': 270, 'NN VBD': 271, 'NN VBD CD': 272, 'NN VBD DT': 273, 'NN VBD JJ': 274, 'NN VBD NN': 275, 'NN VBD PDT': 276, 'NN VBD VBZ': 277, 'NN VBP CC': 278, 'NN VBP CD': 279, 'NN VBP DT': 280, 'NN VBP FW': 281, 'NN VBP IN': 282, 'NN VBP JJ': 283, 'NN VBP NNS': 284, 'NN VBP PDT': 285, 'NN VBP PRP': 286, 'NN VBP RB': 287, 'NN VBP VB': 288, 'NN VBP VBP': 289, 'NN VBP VBZ': 290, 'NN VBP WRB': 291, 'NN VBZ': 292, 'NN VBZ DT': 293, 'NN VBZ IN': 294, 'NN VBZ JJ': 295, 'NN VBZ NN': 296, 'NN VBZ NNS': 297, 'NN VBZ RP': 298, 'NN VBZ VBP': 299, 'NN VBZ VBZ': 300, 'NN WP': 301, 'NN WP FW': 302, 'NN WP IN': 303, 'NN WP NN': 304, 'NN WP VBD': 305, 'NN WP VBZ': 306, 'NN WRB': 307, 'NN WRB DT': 308, 'NN WRB NN': 309, 'NNP': 310, 'NNP CC': 311, 'NNP CC JJ': 312, 'NNP DT': 313, 'NNP IN': 314, 'NNP IN JJ': 315, 'NNP IN NN': 316, 'NNP JJ': 317, 'NNP JJ JJ': 318, 'NNP JJ NN': 319, 'NNP MD': 320, 'NNP MD VB': 321, 'NNP NN': 322, 'NNP NN DT': 323, 'NNP NN IN': 324, 'NNP NN JJ': 325, 'NNP NN NN': 326, 'NNP NN VBD': 327, 'NNP NN VBP': 328, 'NNP NN VBZ': 329, 'NNP NNP': 330, 'NNP NNP JJ': 331, 'NNP NNP MD': 332, 'NNP NNP NN': 333, 'NNP NNP NNP': 334, 'NNP NNP VBD': 335, 'NNP NNP VBZ': 336, 'NNP VBD': 337, 'NNP VBD DT': 338, 'NNP VBD JJ': 339, 'NNP VBP': 340, 'NNP VBP JJ': 341, 'NNP VBZ': 342, 'NNP VBZ DT': 343, 'NNP VBZ FW': 344, 'NNP VBZ JJ': 345, 'NNP VBZ NN': 346, 'NNP VBZ RP': 347, 'NNP VBZ VB': 348, 'NNP VBZ VBZ': 349, 'NNS': 350, 'NNS JJ': 351, 'NNS JJ JJ': 352, 'NNS JJ NN': 353, 'NNS NNS': 354, 'NNS VB': 355, 'NNS VBP': 356, 'NNS VBP DT': 357, 'NNS VBP IN': 358, 'NNS VBP JJ': 359, 'NNS VBP NN': 360, 'NNS VBP NNS': 361, 'NNS VBP VB': 362, 'NNS VBP VBP': 363, 'PDT': 364, 'PDT DT': 365, 'PDT DT JJ': 366, 'PDT DT NN': 367, 'PRP': 368, 'PRP DT': 369, 'PRP DT JJ': 370, 'PRP DT NN': 371, 'PRP JJ': 372, 'PRP VBP': 373, 'PRP VBP DT': 374, 'RB': 375, 'RB DT': 376, 'RB DT DT': 377, 'RB DT JJ': 378, 'RB DT NN': 379, 'RB JJ': 380, 'RB JJ JJ': 381, 'RB JJ NN': 382, 'RB VB': 383, 'RB VB DT': 384, 'RB VBP': 385, 'RB VBP DT': 386, 'RB VBZ': 387, 'RB VBZ DT': 388, 'RP': 389, 'RP DT': 390, 'RP DT JJ': 391, 'RP DT NN': 392, 'SYM': 393, 'SYM JJ': 394, 'SYM JJ JJ': 395, 'SYM JJ NN': 396, 'SYM NN': 397, 'SYM NN NN': 398, 'SYM NN VBZ': 399, 'SYM VBZ': 400, 'SYM VBZ DT': 401, 'UH': 402, 'UH JJ': 403, 'UH JJ JJ': 404, 'UH NN': 405, 'UH NN IN': 406, 'UH NN JJ': 407, 'UH NN NN': 408, 'UH VBZ': 409, 'UH VBZ DT': 410, 'VB': 411, 'VB DT': 412, 'VB DT DT': 413, 'VB DT FW': 414, 'VB DT JJ': 415, 'VB DT NN': 416, 'VB FW': 417, 'VB FW DT': 418, 'VB FW FW': 419, 'VB IN': 420, 'VB IN DT': 421, 'VB IN NN': 422, 'VB JJ': 423, 'VB JJ IN': 424, 'VB JJ JJ': 425, 'VB JJ NN': 426, 'VB JJ NNP': 427, 'VB JJ NNS': 428, 'VB JJ VB': 429, 'VB NN': 430, 'VB NN DT': 431, 'VB NN FW': 432, 'VB NN IN': 433, 'VB NN JJ': 434, 'VB NN NN': 435, 'VB NN NNP': 436, 'VB NN VB': 437, 'VB PDT': 438, 'VB PDT DT': 439, 'VB RB': 440, 'VB RB DT': 441, 'VB RP': 442, 'VB VB': 443, 'VB VB DT': 444, 'VB VB NN': 445, 'VB VBP': 446, 'VB VBP DT': 447, 'VB VBZ': 448, 'VB VBZ DT': 449, 'VBD': 450, 'VBD CD': 451, 'VBD CD NN': 452, 'VBD DT': 453, 'VBD DT DT': 454, 'VBD DT FW': 455, 'VBD DT JJ': 456, 'VBD DT NN': 457, 'VBD JJ': 458, 'VBD JJ IN': 459, 'VBD JJ JJ': 460, 'VBD JJ NN': 461, 'VBD NN': 462, 'VBD NN DT': 463, 'VBD NN NN': 464, 'VBD PDT': 465, 'VBD PDT DT': 466, 'VBD RP': 467, 'VBD RP DT': 468, 'VBD VB': 469, 'VBD VB DT': 470, 'VBD VBZ': 471, 'VBD VBZ DT': 472, 'VBP CC': 473, 'VBP CC JJ': 474, 'VBP CD': 475, 'VBP DT': 476, 'VBP DT DT': 477, 'VBP DT JJ': 478, 'VBP DT NN': 479, 'VBP FW': 480, 'VBP FW FW': 481, 'VBP FW VBP': 482, 'VBP IN': 483, 'VBP IN DT': 484, 'VBP IN NN': 485, 'VBP IN NNS': 486, 'VBP JJ': 487, 'VBP JJ FW': 488, 'VBP JJ IN': 489, 'VBP JJ JJ': 490, 'VBP JJ NN': 491, 'VBP JJ NNP': 492, 'VBP JJ NNS': 493, 'VBP JJ VBP': 494, 'VBP NN CC': 495, 'VBP NN DT': 496, 'VBP NN FW': 497, 'VBP NN IN': 498, 'VBP NN JJ': 499, 'VBP NN NNP': 500, 'VBP NN NNS': 501, 'VBP NN PDT': 502, 'VBP NN PRP': 503, 'VBP NN UH': 504, 'VBP NN VB': 505, 'VBP NN VBD': 506, 'VBP NN VBP': 507, 'VBP NN VBZ': 508, 'VBP NN WP': 509, 'VBP NN WRB': 510, 'VBP NNS': 511, 'VBP NNS JJ': 512, 'VBP NNS VB': 513, 'VBP NNS VBP': 514, 'VBP PDT': 515, 'VBP PDT DT': 516, 'VBP PRP': 517, 'VBP PRP DT': 518, 'VBP RB': 519, 'VBP RB DT': 520, 'VBP RB JJ': 521, 'VBP RB VB': 522, 'VBP RB VBP': 523, 'VBP VB': 524, 'VBP VB DT': 525, 'VBP VBP': 526, 'VBP VBP DT': 527, 'VBP VBP JJ': 528, 'VBP VBP NN': 529, 'VBP VBP VB': 530, 'VBP VBP VBP': 531, 'VBP VBZ': 532, 'VBP VBZ DT': 533, 'VBP WRB': 534, 'VBP WRB DT': 535, 'VBZ': 536, 'VBZ DT': 537, 'VBZ DT DT': 538, 'VBZ DT JJ': 539, 'VBZ DT NN': 540, 'VBZ FW': 541, 'VBZ FW DT': 542, 'VBZ FW JJ': 543, 'VBZ IN': 544, 'VBZ IN DT': 545, 'VBZ JJ': 546, 'VBZ JJ IN': 547, 'VBZ JJ JJ': 548, 'VBZ JJ NN': 549, 'VBZ JJ NNS': 550, 'VBZ JJ VB': 551, 'VBZ NN': 552, 'VBZ NN NN': 553, 'VBZ NNS': 554, 'VBZ RP': 555, 'VBZ RP DT': 556, 'VBZ VB': 557, 'VBZ VB DT': 558, 'VBZ VBP': 559, 'VBZ VBP DT': 560, 'VBZ VBP NN': 561, 'VBZ VBZ': 562, 'VBZ VBZ DT': 563, 'WP': 564, 'WP FW': 565, 'WP FW FW': 566, 'WP FW NN': 567, 'WP IN': 568, 'WP IN JJ': 569, 'WP IN NN': 570, 'WP NN': 571, 'WP NN NN': 572, 'WP VBD': 573, 'WP VBD JJ': 574, 'WP VBZ': 575, 'WP VBZ VBP': 576, 'WRB': 577, 'WRB DT': 578, 'WRB DT JJ': 579, 'WRB DT NN': 580, 'WRB NN': 581, 'WRB NN DT': 582, 'WRB NN JJ': 583, 'WRB NN NN': 584, 'WRB NN VBZ': 585}\n"
     ]
    }
   ],
   "source": [
    "print(pos_vocab)"
   ]
  },
  {
   "cell_type": "code",
   "execution_count": 18,
   "metadata": {},
   "outputs": [],
   "source": [
    "#Now get other features\n",
    "sentiment_analyzer = VS()\n",
    "\n",
    "def count_twitter_objs(text_string):\n",
    "    \"\"\"\n",
    "    Accepts a text string and replaces:\n",
    "    1) urls with URLHERE\n",
    "    2) lots of whitespace with one instance\n",
    "    3) mentions with MENTIONHERE\n",
    "    4) hashtags with HASHTAGHERE\n",
    "\n",
    "    This allows us to get standardized counts of urls and mentions\n",
    "    Without caring about specific people mentioned.\n",
    "    \n",
    "    Returns counts of urls, mentions, and hashtags.\n",
    "    \"\"\"\n",
    "    space_pattern = '\\s+'\n",
    "    giant_url_regex = ('http[s]?://(?:[a-zA-Z]|[0-9]|[$-_@.&+]|'\n",
    "        '[!*\\(\\),]|(?:%[0-9a-fA-F][0-9a-fA-F]))+')\n",
    "    mention_regex = '@[\\w\\-]+'\n",
    "    hashtag_regex = '#[\\w\\-]+'\n",
    "    parsed_text = re.sub(space_pattern, ' ', text_string)\n",
    "    parsed_text = re.sub(giant_url_regex, 'URLHERE', parsed_text)\n",
    "    parsed_text = re.sub(mention_regex, 'MENTIONHERE', parsed_text)\n",
    "    parsed_text = re.sub(hashtag_regex, 'HASHTAGHERE', parsed_text)\n",
    "    return(parsed_text.count('URLHERE'),parsed_text.count('MENTIONHERE'),parsed_text.count('HASHTAGHERE'))\n",
    "\n",
    "def other_features(tweet):\n",
    "    \"\"\"This function takes a string and returns a list of features.\n",
    "    These include Sentiment scores, Text and Readability scores,\n",
    "    as well as Twitter specific features\"\"\"\n",
    "    sentiment = sentiment_analyzer.polarity_scores(tweet)\n",
    "    \n",
    "    words = preprocess(tweet) #Get text only\n",
    "    \n",
    "    syllables = textstat.syllable_count(words)\n",
    "    num_chars = sum(len(w) for w in words)\n",
    "    num_chars_total = len(tweet)\n",
    "    num_terms = len(tweet.split())\n",
    "    num_words = len(words.split())\n",
    "    avg_syl = round(float((syllables+0.001))/float(num_words+0.001),4)\n",
    "    num_unique_terms = len(set(words.split()))\n",
    "    \n",
    "    ###Modified FK grade, where avg words per sentence is just num words/1\n",
    "    FKRA = round(float(0.39 * float(num_words)/1.0) + float(11.8 * avg_syl) - 15.59,1)\n",
    "    ##Modified FRE score, where sentence fixed to 1\n",
    "    FRE = round(206.835 - 1.015*(float(num_words)/1.0) - (84.6*float(avg_syl)),2)\n",
    "    \n",
    "    twitter_objs = count_twitter_objs(tweet)\n",
    "    retweet = 0\n",
    "    if \"rt\" in words:\n",
    "        retweet = 1\n",
    "    features = [FKRA, FRE,syllables, avg_syl, num_chars, num_chars_total, num_terms, num_words,\n",
    "                num_unique_terms, sentiment['neg'], sentiment['pos'], sentiment['neu'], sentiment['compound'],\n",
    "                twitter_objs[2], twitter_objs[1],\n",
    "                twitter_objs[0], retweet]\n",
    "    #features = pandas.DataFrame(features)\n",
    "    return features\n",
    "\n",
    "def get_feature_array(tweets):\n",
    "    feats=[]\n",
    "    for t in tweets:\n",
    "        feats.append(other_features(t))\n",
    "    return np.array(feats)"
   ]
  },
  {
   "cell_type": "code",
   "execution_count": 19,
   "metadata": {},
   "outputs": [],
   "source": [
    "other_features_names = [\"FKRA\", \"FRE\",\"num_syllables\", \"avg_syl_per_word\", \"num_chars\", \"num_chars_total\", \\\n",
    "                        \"num_terms\", \"num_words\", \"num_unique_words\", \"vader neg\",\"vader pos\",\"vader neu\", \\\n",
    "                        \"vader compound\", \"num_hashtags\", \"num_mentions\", \"num_urls\", \"is_retweet\"]"
   ]
  },
  {
   "cell_type": "code",
   "execution_count": 20,
   "metadata": {},
   "outputs": [],
   "source": [
    "feats = get_feature_array(tweets)"
   ]
  },
  {
   "cell_type": "code",
   "execution_count": 21,
   "metadata": {},
   "outputs": [],
   "source": [
    "#Now join them all up\n",
    "M = np.concatenate([tfidf,pos,feats],axis=1)"
   ]
  },
  {
   "cell_type": "code",
   "execution_count": 22,
   "metadata": {},
   "outputs": [
    {
     "name": "stdout",
     "output_type": "stream",
     "text": [
      "[[1.29163073 0.         0.         ... 1.         0.         0.        ]\n",
      " [2.58326146 0.         0.         ... 1.         0.         0.        ]\n",
      " [2.58326146 0.         0.         ... 2.         0.         1.        ]\n",
      " ...\n",
      " [1.29163073 0.         0.         ... 0.         0.         0.        ]\n",
      " [1.29163073 0.         0.         ... 0.         0.         0.        ]\n",
      " [2.58326146 0.         0.         ... 0.         1.         0.        ]]\n"
     ]
    }
   ],
   "source": [
    "print(M)"
   ]
  },
  {
   "cell_type": "code",
   "execution_count": 23,
   "metadata": {},
   "outputs": [
    {
     "data": {
      "text/plain": [
       "(24783, 4023)"
      ]
     },
     "execution_count": 23,
     "metadata": {},
     "output_type": "execute_result"
    }
   ],
   "source": [
    "M.shape"
   ]
  },
  {
   "cell_type": "code",
   "execution_count": 24,
   "metadata": {},
   "outputs": [],
   "source": [
    "#Finally get a list of variable names\n",
    "variables = ['']*len(vocab)\n",
    "for k,v in vocab.items():\n",
    "    variables[v] = k\n",
    "\n",
    "pos_variables = ['']*len(pos_vocab)\n",
    "for k,v in pos_vocab.items():\n",
    "    pos_variables[v] = k\n",
    "\n",
    "feature_names = variables+pos_variables+other_features_names"
   ]
  },
  {
   "cell_type": "markdown",
   "metadata": {},
   "source": [
    "# Running the model\n",
    "\n",
    "The best model was selected using a GridSearch with 5-fold CV."
   ]
  },
  {
   "cell_type": "code",
   "execution_count": 25,
   "metadata": {},
   "outputs": [],
   "source": [
    "X = pd.DataFrame(M)\n",
    "y = df['class'].astype(int)"
   ]
  },
  {
   "cell_type": "code",
   "execution_count": 26,
   "metadata": {},
   "outputs": [],
   "source": [
    "from sklearn.model_selection import train_test_split"
   ]
  },
  {
   "cell_type": "code",
   "execution_count": 27,
   "metadata": {},
   "outputs": [],
   "source": [
    "X_train, X_test, y_train, y_test = train_test_split(X, y, random_state=42, test_size=0.1)"
   ]
  },
  {
   "cell_type": "code",
   "execution_count": 51,
   "metadata": {},
   "outputs": [
    {
     "name": "stdout",
     "output_type": "stream",
     "text": [
      "           0         1     2     3     4     5     6     7     8     9     \\\n",
      "8057   7.749784  3.907834   0.0   0.0   0.0   0.0   0.0   0.0   0.0   0.0   \n",
      "313    0.000000  0.000000   0.0   0.0   0.0   0.0   0.0   0.0   0.0   0.0   \n",
      "15568  5.166523  0.000000   0.0   0.0   0.0   0.0   0.0   0.0   0.0   0.0   \n",
      "13789  2.583261  0.000000   0.0   0.0   0.0   0.0   0.0   0.0   0.0   0.0   \n",
      "17837  2.583261  0.000000   0.0   0.0   0.0   0.0   0.0   0.0   0.0   0.0   \n",
      "...         ...       ...   ...   ...   ...   ...   ...   ...   ...   ...   \n",
      "21575  1.291631  0.000000   0.0   0.0   0.0   0.0   0.0   0.0   0.0   0.0   \n",
      "5390   1.291631  0.000000   0.0   0.0   0.0   0.0   0.0   0.0   0.0   0.0   \n",
      "860    1.291631  0.000000   0.0   0.0   0.0   0.0   0.0   0.0   0.0   0.0   \n",
      "15795  3.874892  0.000000   0.0   0.0   0.0   0.0   0.0   0.0   0.0   0.0   \n",
      "23654  1.291631  0.000000   0.0   0.0   0.0   0.0   0.0   0.0   0.0   0.0   \n",
      "\n",
      "       ...  4013  4014   4015   4016   4017    4018  4019  4020  4021  4022  \n",
      "8057   ...  24.0  23.0  0.306  0.212  0.482 -0.6486   2.0   0.0   0.0   0.0  \n",
      "313    ...  10.0   9.0  0.000  0.196  0.804  0.2960   2.0   1.0   0.0   0.0  \n",
      "15568  ...  29.0  24.0  0.362  0.041  0.597 -0.9042   2.0   1.0   0.0   0.0  \n",
      "13789  ...  18.0  18.0  0.307  0.193  0.501 -0.6072   0.0   0.0   0.0   0.0  \n",
      "17837  ...  14.0  11.0  0.388  0.000  0.612 -0.8225   2.0   2.0   1.0   0.0  \n",
      "...    ...   ...   ...    ...    ...    ...     ...   ...   ...   ...   ...  \n",
      "21575  ...  15.0  15.0  0.000  0.309  0.691  0.7003   1.0   0.0   1.0   0.0  \n",
      "5390   ...  27.0  25.0  0.149  0.000  0.851 -0.4919   3.0   1.0   0.0   0.0  \n",
      "860    ...   9.0   8.0  0.000  0.000  1.000  0.0000   7.0   0.0   1.0   0.0  \n",
      "15795  ...  24.0  23.0  0.228  0.000  0.772 -0.6808   1.0   1.0   0.0   0.0  \n",
      "23654  ...   8.0   7.0  0.556  0.000  0.444 -0.8176   3.0   0.0   0.0   0.0  \n",
      "\n",
      "[22304 rows x 4023 columns]\n"
     ]
    }
   ],
   "source": [
    "print(X_train)"
   ]
  },
  {
   "cell_type": "code",
   "execution_count": 28,
   "metadata": {},
   "outputs": [],
   "source": [
    "from sklearn.model_selection import StratifiedKFold, GridSearchCV\n",
    "from sklearn.pipeline import Pipeline"
   ]
  },
  {
   "cell_type": "code",
   "execution_count": 37,
   "metadata": {},
   "outputs": [],
   "source": [
    "#from sklearn.preprocessing import StandardScaler\n",
    "#scaler = StandardScaler()\n",
    "#scaler.fit(X_train)\n",
    "#X_train = scaler.transform(X_train)\n",
    "#X_test = scaler.transform(X_test)"
   ]
  },
  {
   "cell_type": "code",
   "execution_count": 30,
   "metadata": {},
   "outputs": [],
   "source": [
    "from sklearn.neighbors import KNeighborsClassifier\n",
    "pipe = Pipeline(\n",
    "        [('select', SelectFromModel(LogisticRegression(class_weight='balanced',\n",
    "                                                  penalty=\"l1\", C=0.01))),\n",
    "        ('model', KNeighborsClassifier(n_neighbors=5))])"
   ]
  },
  {
   "cell_type": "code",
   "execution_count": 33,
   "metadata": {},
   "outputs": [],
   "source": [
    "grid_search = GridSearchCV(pipe, \n",
    "                           param_grid,\n",
    "                           cv=StratifiedKFold(n_splits=5, \n",
    "                                              random_state=42).split(X_train, y_train), \n",
    "                           verbose=2)"
   ]
  },
  {
   "cell_type": "code",
   "execution_count": 34,
   "metadata": {
    "scrolled": true
   },
   "outputs": [
    {
     "name": "stdout",
     "output_type": "stream",
     "text": [
      "Fitting 5 folds for each of 1 candidates, totalling 5 fits\n",
      "[CV]  ................................................................\n"
     ]
    },
    {
     "name": "stderr",
     "output_type": "stream",
     "text": [
      "[Parallel(n_jobs=1)]: Using backend SequentialBackend with 1 concurrent workers.\n"
     ]
    },
    {
     "name": "stdout",
     "output_type": "stream",
     "text": [
      "[CV] ................................................. , total=  14.1s\n",
      "[CV]  ................................................................\n"
     ]
    },
    {
     "name": "stderr",
     "output_type": "stream",
     "text": [
      "[Parallel(n_jobs=1)]: Done   1 out of   1 | elapsed:   14.1s remaining:    0.0s\n"
     ]
    },
    {
     "name": "stdout",
     "output_type": "stream",
     "text": [
      "[CV] ................................................. , total=  15.2s\n",
      "[CV]  ................................................................\n",
      "[CV] ................................................. , total=  13.3s\n",
      "[CV]  ................................................................\n",
      "[CV] ................................................. , total=  17.1s\n",
      "[CV]  ................................................................\n",
      "[CV] ................................................. , total=  12.9s\n"
     ]
    },
    {
     "name": "stderr",
     "output_type": "stream",
     "text": [
      "[Parallel(n_jobs=1)]: Done   5 out of   5 | elapsed:  1.2min finished\n"
     ]
    }
   ],
   "source": [
    "model = grid_search.fit(X_train, y_train)"
   ]
  },
  {
   "cell_type": "code",
   "execution_count": 35,
   "metadata": {},
   "outputs": [],
   "source": [
    "y_preds = model.predict(X_test)"
   ]
  },
  {
   "cell_type": "code",
   "execution_count": 36,
   "metadata": {},
   "outputs": [
    {
     "name": "stdout",
     "output_type": "stream",
     "text": [
      "              precision    recall  f1-score   support\n",
      "\n",
      "           0       0.18      0.02      0.04       164\n",
      "           1       0.79      0.98      0.87      1905\n",
      "           2       0.65      0.15      0.24       410\n",
      "\n",
      "    accuracy                           0.78      2479\n",
      "   macro avg       0.54      0.38      0.39      2479\n",
      "weighted avg       0.73      0.78      0.71      2479\n",
      "\n"
     ]
    }
   ],
   "source": [
    "report = classification_report( y_test, y_preds )\n",
    "print(report)"
   ]
  },
  {
   "cell_type": "code",
   "execution_count": 38,
   "metadata": {},
   "outputs": [],
   "source": [
    "from sklearn.discriminant_analysis import LinearDiscriminantAnalysis as LDA\n",
    "pipe = Pipeline(\n",
    "        [('select', SelectFromModel(LogisticRegression(class_weight='balanced',\n",
    "                                                  penalty=\"l1\", C=0.01))),\n",
    "        ('model', LDA(n_components=1))])"
   ]
  },
  {
   "cell_type": "code",
   "execution_count": 39,
   "metadata": {},
   "outputs": [],
   "source": [
    "grid_search = GridSearchCV(pipe, \n",
    "                           param_grid,\n",
    "                           cv=StratifiedKFold(n_splits=5, \n",
    "                                              random_state=42).split(X_train, y_train), \n",
    "                           verbose=2)"
   ]
  },
  {
   "cell_type": "code",
   "execution_count": 40,
   "metadata": {},
   "outputs": [
    {
     "name": "stdout",
     "output_type": "stream",
     "text": [
      "Fitting 5 folds for each of 1 candidates, totalling 5 fits\n",
      "[CV]  ................................................................\n"
     ]
    },
    {
     "name": "stderr",
     "output_type": "stream",
     "text": [
      "[Parallel(n_jobs=1)]: Using backend SequentialBackend with 1 concurrent workers.\n"
     ]
    },
    {
     "name": "stdout",
     "output_type": "stream",
     "text": [
      "[CV] ................................................. , total=  10.8s\n",
      "[CV]  ................................................................\n"
     ]
    },
    {
     "name": "stderr",
     "output_type": "stream",
     "text": [
      "[Parallel(n_jobs=1)]: Done   1 out of   1 | elapsed:   10.8s remaining:    0.0s\n"
     ]
    },
    {
     "name": "stdout",
     "output_type": "stream",
     "text": [
      "[CV] ................................................. , total=   8.0s\n",
      "[CV]  ................................................................\n",
      "[CV] ................................................. , total=   6.8s\n",
      "[CV]  ................................................................\n",
      "[CV] ................................................. , total=  10.5s\n",
      "[CV]  ................................................................\n",
      "[CV] ................................................. , total=   5.7s\n"
     ]
    },
    {
     "name": "stderr",
     "output_type": "stream",
     "text": [
      "[Parallel(n_jobs=1)]: Done   5 out of   5 | elapsed:   42.2s finished\n"
     ]
    }
   ],
   "source": [
    "model = grid_search.fit(X_train, y_train)"
   ]
  },
  {
   "cell_type": "code",
   "execution_count": 41,
   "metadata": {},
   "outputs": [],
   "source": [
    "y_preds = model.predict(X_test)"
   ]
  },
  {
   "cell_type": "code",
   "execution_count": 42,
   "metadata": {},
   "outputs": [
    {
     "name": "stdout",
     "output_type": "stream",
     "text": [
      "              precision    recall  f1-score   support\n",
      "\n",
      "           0       0.52      0.41      0.46       164\n",
      "           1       0.89      0.93      0.91      1905\n",
      "           2       0.73      0.62      0.67       410\n",
      "\n",
      "    accuracy                           0.84      2479\n",
      "   macro avg       0.71      0.65      0.68      2479\n",
      "weighted avg       0.84      0.84      0.84      2479\n",
      "\n"
     ]
    }
   ],
   "source": [
    "report = classification_report( y_test, y_preds )\n",
    "print(report)"
   ]
  },
  {
   "cell_type": "code",
   "execution_count": 43,
   "metadata": {},
   "outputs": [],
   "source": [
    "from sklearn.naive_bayes import GaussianNB\n",
    "pipe = Pipeline(\n",
    "        [('select', SelectFromModel(LogisticRegression(class_weight='balanced',\n",
    "                                                  penalty=\"l1\", C=0.01))),\n",
    "        ('model', GaussianNB())])"
   ]
  },
  {
   "cell_type": "code",
   "execution_count": 44,
   "metadata": {},
   "outputs": [],
   "source": [
    "grid_search = GridSearchCV(pipe, \n",
    "                           param_grid,\n",
    "                           cv=StratifiedKFold(n_splits=5, \n",
    "                                              random_state=42).split(X_train, y_train), \n",
    "                           verbose=2)"
   ]
  },
  {
   "cell_type": "code",
   "execution_count": 45,
   "metadata": {},
   "outputs": [
    {
     "name": "stdout",
     "output_type": "stream",
     "text": [
      "Fitting 5 folds for each of 1 candidates, totalling 5 fits\n",
      "[CV]  ................................................................\n"
     ]
    },
    {
     "name": "stderr",
     "output_type": "stream",
     "text": [
      "[Parallel(n_jobs=1)]: Using backend SequentialBackend with 1 concurrent workers.\n"
     ]
    },
    {
     "name": "stdout",
     "output_type": "stream",
     "text": [
      "[CV] ................................................. , total=   5.0s\n",
      "[CV]  ................................................................\n"
     ]
    },
    {
     "name": "stderr",
     "output_type": "stream",
     "text": [
      "[Parallel(n_jobs=1)]: Done   1 out of   1 | elapsed:    5.0s remaining:    0.0s\n"
     ]
    },
    {
     "name": "stdout",
     "output_type": "stream",
     "text": [
      "[CV] ................................................. , total=   6.8s\n",
      "[CV]  ................................................................\n",
      "[CV] ................................................. , total=   5.3s\n",
      "[CV]  ................................................................\n",
      "[CV] ................................................. , total=   9.3s\n",
      "[CV]  ................................................................\n",
      "[CV] ................................................. , total=   4.6s\n"
     ]
    },
    {
     "name": "stderr",
     "output_type": "stream",
     "text": [
      "[Parallel(n_jobs=1)]: Done   5 out of   5 | elapsed:   31.4s finished\n"
     ]
    }
   ],
   "source": [
    "model = grid_search.fit(X_train, y_train)"
   ]
  },
  {
   "cell_type": "code",
   "execution_count": 46,
   "metadata": {},
   "outputs": [],
   "source": [
    "y_preds = model.predict(X_test)"
   ]
  },
  {
   "cell_type": "code",
   "execution_count": 47,
   "metadata": {},
   "outputs": [
    {
     "name": "stdout",
     "output_type": "stream",
     "text": [
      "              precision    recall  f1-score   support\n",
      "\n",
      "           0       0.13      0.47      0.20       164\n",
      "           1       0.89      0.67      0.77      1905\n",
      "           2       0.55      0.61      0.58       410\n",
      "\n",
      "    accuracy                           0.65      2479\n",
      "   macro avg       0.53      0.58      0.52      2479\n",
      "weighted avg       0.79      0.65      0.70      2479\n",
      "\n"
     ]
    }
   ],
   "source": [
    "report = classification_report( y_test, y_preds )\n",
    "print(report)"
   ]
  },
  {
   "cell_type": "code",
   "execution_count": null,
   "metadata": {},
   "outputs": [],
   "source": []
  },
  {
   "cell_type": "code",
   "execution_count": 30,
   "metadata": {},
   "outputs": [],
   "source": [
    "pipe = Pipeline(\n",
    "        [('select', SelectFromModel(LogisticRegression(class_weight='balanced',\n",
    "                                                  penalty=\"l1\", C=0.01))),\n",
    "        ('model', LogisticRegression(class_weight='balanced',penalty='l2'))])"
   ]
  },
  {
   "cell_type": "code",
   "execution_count": 32,
   "metadata": {},
   "outputs": [],
   "source": [
    "param_grid = [{}] # Optionally add parameters here"
   ]
  },
  {
   "cell_type": "code",
   "execution_count": 31,
   "metadata": {},
   "outputs": [],
   "source": [
    "grid_search = GridSearchCV(pipe, \n",
    "                           param_grid,\n",
    "                           cv=StratifiedKFold(n_splits=5, \n",
    "                                              random_state=42).split(X_train, y_train), \n",
    "                           verbose=2)"
   ]
  },
  {
   "cell_type": "code",
   "execution_count": 32,
   "metadata": {
    "scrolled": true
   },
   "outputs": [
    {
     "name": "stdout",
     "output_type": "stream",
     "text": [
      "Fitting 5 folds for each of 1 candidates, totalling 5 fits\n",
      "[CV]  ................................................................\n"
     ]
    },
    {
     "name": "stderr",
     "output_type": "stream",
     "text": [
      "[Parallel(n_jobs=1)]: Using backend SequentialBackend with 1 concurrent workers.\n"
     ]
    },
    {
     "name": "stdout",
     "output_type": "stream",
     "text": [
      "[CV] ................................................. , total=  15.8s\n",
      "[CV]  ................................................................\n"
     ]
    },
    {
     "name": "stderr",
     "output_type": "stream",
     "text": [
      "[Parallel(n_jobs=1)]: Done   1 out of   1 | elapsed:   15.9s remaining:    0.0s\n"
     ]
    },
    {
     "name": "stdout",
     "output_type": "stream",
     "text": [
      "[CV] ................................................. , total=  18.0s\n",
      "[CV]  ................................................................\n",
      "[CV] ................................................. , total=  17.7s\n",
      "[CV]  ................................................................\n",
      "[CV] ................................................. , total=  22.7s\n",
      "[CV]  ................................................................\n",
      "[CV] ................................................. , total=  18.2s\n"
     ]
    },
    {
     "name": "stderr",
     "output_type": "stream",
     "text": [
      "[Parallel(n_jobs=1)]: Done   5 out of   5 | elapsed:  1.5min finished\n"
     ]
    }
   ],
   "source": [
    "model = grid_search.fit(X_train, y_train)"
   ]
  },
  {
   "cell_type": "code",
   "execution_count": 33,
   "metadata": {},
   "outputs": [],
   "source": [
    "y_preds = model.predict(X_test)"
   ]
  },
  {
   "cell_type": "markdown",
   "metadata": {},
   "source": [
    "## Evaluating the results"
   ]
  },
  {
   "cell_type": "code",
   "execution_count": 34,
   "metadata": {},
   "outputs": [
    {
     "ename": "ValueError",
     "evalue": "Classification metrics can't handle a mix of multiclass and continuous targets",
     "output_type": "error",
     "traceback": [
      "\u001b[1;31m---------------------------------------------------------------------------\u001b[0m",
      "\u001b[1;31mValueError\u001b[0m                                Traceback (most recent call last)",
      "\u001b[1;32m<ipython-input-34-f921be1eaf76>\u001b[0m in \u001b[0;36m<module>\u001b[1;34m\u001b[0m\n\u001b[1;32m----> 1\u001b[1;33m \u001b[0mreport\u001b[0m \u001b[1;33m=\u001b[0m \u001b[0mclassification_report\u001b[0m\u001b[1;33m(\u001b[0m \u001b[0my_test\u001b[0m\u001b[1;33m,\u001b[0m \u001b[0my_preds\u001b[0m \u001b[1;33m)\u001b[0m\u001b[1;33m\u001b[0m\u001b[1;33m\u001b[0m\u001b[0m\n\u001b[0m",
      "\u001b[1;32m~\\Anaconda3\\lib\\site-packages\\sklearn\\metrics\\classification.py\u001b[0m in \u001b[0;36mclassification_report\u001b[1;34m(y_true, y_pred, labels, target_names, sample_weight, digits, output_dict)\u001b[0m\n\u001b[0;32m   1850\u001b[0m     \"\"\"\n\u001b[0;32m   1851\u001b[0m \u001b[1;33m\u001b[0m\u001b[0m\n\u001b[1;32m-> 1852\u001b[1;33m     \u001b[0my_type\u001b[0m\u001b[1;33m,\u001b[0m \u001b[0my_true\u001b[0m\u001b[1;33m,\u001b[0m \u001b[0my_pred\u001b[0m \u001b[1;33m=\u001b[0m \u001b[0m_check_targets\u001b[0m\u001b[1;33m(\u001b[0m\u001b[0my_true\u001b[0m\u001b[1;33m,\u001b[0m \u001b[0my_pred\u001b[0m\u001b[1;33m)\u001b[0m\u001b[1;33m\u001b[0m\u001b[1;33m\u001b[0m\u001b[0m\n\u001b[0m\u001b[0;32m   1853\u001b[0m \u001b[1;33m\u001b[0m\u001b[0m\n\u001b[0;32m   1854\u001b[0m     \u001b[0mlabels_given\u001b[0m \u001b[1;33m=\u001b[0m \u001b[1;32mTrue\u001b[0m\u001b[1;33m\u001b[0m\u001b[1;33m\u001b[0m\u001b[0m\n",
      "\u001b[1;32m~\\Anaconda3\\lib\\site-packages\\sklearn\\metrics\\classification.py\u001b[0m in \u001b[0;36m_check_targets\u001b[1;34m(y_true, y_pred)\u001b[0m\n\u001b[0;32m     79\u001b[0m     \u001b[1;32mif\u001b[0m \u001b[0mlen\u001b[0m\u001b[1;33m(\u001b[0m\u001b[0my_type\u001b[0m\u001b[1;33m)\u001b[0m \u001b[1;33m>\u001b[0m \u001b[1;36m1\u001b[0m\u001b[1;33m:\u001b[0m\u001b[1;33m\u001b[0m\u001b[1;33m\u001b[0m\u001b[0m\n\u001b[0;32m     80\u001b[0m         raise ValueError(\"Classification metrics can't handle a mix of {0} \"\n\u001b[1;32m---> 81\u001b[1;33m                          \"and {1} targets\".format(type_true, type_pred))\n\u001b[0m\u001b[0;32m     82\u001b[0m \u001b[1;33m\u001b[0m\u001b[0m\n\u001b[0;32m     83\u001b[0m     \u001b[1;31m# We can't have more than one value on y_type => The set is no more needed\u001b[0m\u001b[1;33m\u001b[0m\u001b[1;33m\u001b[0m\u001b[1;33m\u001b[0m\u001b[0m\n",
      "\u001b[1;31mValueError\u001b[0m: Classification metrics can't handle a mix of multiclass and continuous targets"
     ]
    }
   ],
   "source": [
    "report = classification_report( y_test, y_preds )"
   ]
  },
  {
   "cell_type": "markdown",
   "metadata": {},
   "source": [
    "***Note: Results in paper are from best model retrained on the entire dataset (see the other notebook). Here the results are reported after using cross-validation and only for the held-out set.***"
   ]
  },
  {
   "cell_type": "code",
   "execution_count": 37,
   "metadata": {},
   "outputs": [
    {
     "name": "stdout",
     "output_type": "stream",
     "text": [
      "              precision    recall  f1-score   support\n",
      "\n",
      "           0       0.38      0.46      0.42       164\n",
      "           1       0.93      0.87      0.90      1905\n",
      "           2       0.67      0.79      0.73       410\n",
      "\n",
      "    accuracy                           0.83      2479\n",
      "   macro avg       0.66      0.71      0.68      2479\n",
      "weighted avg       0.85      0.83      0.84      2479\n",
      "\n"
     ]
    }
   ],
   "source": [
    "print(report)"
   ]
  },
  {
   "cell_type": "code",
   "execution_count": 38,
   "metadata": {},
   "outputs": [
    {
     "data": {
      "image/png": "[encoded data removed]",
      "text/plain": [
       "<Figure size 360x360 with 1 Axes>"
      ]
     },
     "metadata": {
      "needs_background": "light"
     },
     "output_type": "display_data"
    }
   ],
   "source": [
    "from sklearn.metrics import confusion_matrix\n",
    "confusion_matrix = confusion_matrix(y_test,y_preds)\n",
    "matrix_proportions = np.zeros((3,3))\n",
    "for i in range(0,3):\n",
    "    matrix_proportions[i,:] = confusion_matrix[i,:]/float(confusion_matrix[i,:].sum())\n",
    "names=['Hate','Offensive','Neither']\n",
    "confusion_df = pd.DataFrame(matrix_proportions, index=names,columns=names)\n",
    "plt.figure(figsize=(5,5))\n",
    "seaborn.heatmap(confusion_df,annot=True,annot_kws={\"size\": 12},cmap='gist_gray_r',cbar=False, square=True,fmt='.2f')\n",
    "plt.ylabel(r'True categories',fontsize=14)\n",
    "plt.xlabel(r'Predicted categories',fontsize=14)\n",
    "plt.tick_params(labelsize=12)\n",
    "\n",
    "#Uncomment line below if you want to save the output\n",
    "#plt.savefig('confusion.pdf')"
   ]
  },
  {
   "cell_type": "code",
   "execution_count": 63,
   "metadata": {},
   "outputs": [
    {
     "data": {
      "text/plain": [
       "<matplotlib.axes._subplots.AxesSubplot at 0x1116a7c50>"
      ]
     },
     "execution_count": 63,
     "metadata": {},
     "output_type": "execute_result"
    },
    {
     "data": {
      "image/png": "[encoded data removed]",
      "text/plain": [
       "<matplotlib.figure.Figure at 0x11167aa20>"
      ]
     },
     "metadata": {},
     "output_type": "display_data"
    }
   ],
   "source": [
    "#True distribution\n",
    "y.hist()"
   ]
  },
  {
   "cell_type": "code",
   "execution_count": 64,
   "metadata": {},
   "outputs": [
    {
     "data": {
      "text/plain": [
       "<matplotlib.axes._subplots.AxesSubplot at 0x114cd3dd8>"
      ]
     },
     "execution_count": 64,
     "metadata": {},
     "output_type": "execute_result"
    },
    {
     "data": {
      "image/png": "[encoded data removed]",
      "text/plain": [
       "<matplotlib.figure.Figure at 0x111733160>"
      ]
     },
     "metadata": {},
     "output_type": "display_data"
    }
   ],
   "source": [
    "pd.Series(y_preds).hist()"
   ]
  },
  {
   "cell_type": "code",
   "execution_count": null,
   "metadata": {
    "collapsed": true
   },
   "outputs": [],
   "source": []
  },
  {
   "cell_type": "code",
   "execution_count": null,
   "metadata": {
    "collapsed": true
   },
   "outputs": [],
   "source": []
  },
  {
   "cell_type": "code",
   "execution_count": null,
   "metadata": {
    "collapsed": true
   },
   "outputs": [],
   "source": []
  }
 ],
 "metadata": {
  "kernelspec": {
   "display_name": "Python 3",
   "language": "python",
   "name": "python3"
  },
  "language_info": {
   "codemirror_mode": {
    "name": "ipython",
    "version": 3
   },
   "file_extension": ".py",
   "mimetype": "text/x-python",
   "name": "python",
   "nbconvert_exporter": "python",
   "pygments_lexer": "ipython3",
   "version": "3.7.4"
  }
 },
 "nbformat": 4,
 "nbformat_minor": 2
}
